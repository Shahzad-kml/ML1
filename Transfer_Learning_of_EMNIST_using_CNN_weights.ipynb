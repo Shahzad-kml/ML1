{
  "nbformat": 4,
  "nbformat_minor": 0,
  "metadata": {
    "colab": {
      "provenance": [],
      "mount_file_id": "1MmVzo2vDqwvYRXEM1RrAQ8L6InFqEbfC",
      "authorship_tag": "ABX9TyMZnMBWwrSxF+7VVy3CI1LE",
      "include_colab_link": true
    },
    "kernelspec": {
      "name": "python3",
      "display_name": "Python 3"
    },
    "language_info": {
      "name": "python"
    },
    "accelerator": "GPU",
    "gpuClass": "standard"
  },
  "cells": [
    {
      "cell_type": "markdown",
      "metadata": {
        "id": "view-in-github",
        "colab_type": "text"
      },
      "source": [
        "<a href=\"https://colab.research.google.com/github/Shahzad-kml/ML1/blob/main/Transfer_Learning_of_EMNIST_using_CNN_weights.ipynb\" target=\"_parent\"><img src=\"https://colab.research.google.com/assets/colab-badge.svg\" alt=\"Open In Colab\"/></a>"
      ]
    },
    {
      "cell_type": "code",
      "execution_count": null,
      "metadata": {
        "id": "dg4X0xzS5afy"
      },
      "outputs": [],
      "source": [
        "import keras\n",
        "from emnist import extract_training_samples, extract_test_samples\n",
        "from keras.models import Sequential\n",
        "from keras.layers import Dense, Dropout, Flatten\n",
        "from keras.layers import Conv2D, MaxPooling2D\n",
        "from keras.utils import to_categorical\n",
        "\n",
        "# Load EMNIST ByClass dataset\n",
        "x_train, y_train = extract_training_samples('byclass')\n",
        "x_test, y_test = extract_test_samples('byclass')"
      ]
    },
    {
      "cell_type": "code",
      "source": [
        "# Normalize pixel values to [0, 1]\n",
        "x_train = x_train.astype('float32') / 255.\n",
        "x_test = x_test.astype('float32') / 255.\n",
        "\n",
        "# Reshape data for CNN input\n",
        "x_train = x_train.reshape(-1, 28, 28, 1)\n",
        "x_test = x_test.reshape(-1, 28, 28, 1)\n",
        "\n",
        "# Convert class labels to one-hot encoded vectors\n",
        "num_classes = 62  # EMNIST ByClass dataset has 62 classes\n",
        "y_train = to_categorical(y_train, num_classes)\n",
        "y_test = to_categorical(y_test, num_classes)"
      ],
      "metadata": {
        "id": "3w8afU7Ga_1X"
      },
      "execution_count": null,
      "outputs": []
    },
    {
      "cell_type": "code",
      "source": [
        "# Load pre-trained model on MNIST\n",
        "mnist_model = keras.models.load_model('/content/drive/MyDrive/Datasets/CCN_Mnist_dataset.h5')\n",
        "\n",
        "# Remove the last layer of the model (softmax layer for MNIST classification)\n",
        "mnist_model.pop()\n",
        "\n",
        "# Freeze the weights of all the layers except the last one\n",
        "for layer in mnist_model.layers[:-1]:\n",
        "    layer.trainable = False\n",
        "\n",
        "# Add a new softmax layer for EMNIST classification\n",
        "new_layer = Dense(num_classes, activation='softmax')\n",
        "mnist_model.add(new_layer)\n",
        "\n",
        "# Compile the model with the new softmax layer\n",
        "mnist_model.compile(loss='categorical_crossentropy',\n",
        "                    optimizer='adam', metrics=['accuracy'])\n",
        "\n",
        "# Train the model on EMNIST dataset\n",
        "history = mnist_model.fit(x_train, y_train, batch_size=128, epochs=10,\n",
        "                          validation_data=(x_test, y_test), verbose=1)"
      ],
      "metadata": {
        "colab": {
          "base_uri": "https://localhost:8080/"
        },
        "id": "lhZvT6ig9_9t",
        "outputId": "c7fa21fb-4d8b-44eb-e380-a673250a931b"
      },
      "execution_count": null,
      "outputs": [
        {
          "output_type": "stream",
          "name": "stdout",
          "text": [
            "Epoch 1/10\n",
            "5453/5453 [==============================] - 36s 6ms/step - loss: 0.7585 - accuracy: 0.7633 - val_loss: 0.6171 - val_accuracy: 0.7953\n",
            "Epoch 2/10\n",
            "5453/5453 [==============================] - 31s 6ms/step - loss: 0.5978 - accuracy: 0.8000 - val_loss: 0.5858 - val_accuracy: 0.8034\n",
            "Epoch 3/10\n",
            "5453/5453 [==============================] - 31s 6ms/step - loss: 0.5781 - accuracy: 0.8051 - val_loss: 0.5787 - val_accuracy: 0.8036\n",
            "Epoch 4/10\n",
            "5453/5453 [==============================] - 33s 6ms/step - loss: 0.5679 - accuracy: 0.8077 - val_loss: 0.5713 - val_accuracy: 0.8075\n",
            "Epoch 5/10\n",
            "5453/5453 [==============================] - 30s 5ms/step - loss: 0.5617 - accuracy: 0.8093 - val_loss: 0.5653 - val_accuracy: 0.8100\n",
            "Epoch 6/10\n",
            "5453/5453 [==============================] - 32s 6ms/step - loss: 0.5573 - accuracy: 0.8103 - val_loss: 0.5595 - val_accuracy: 0.8108\n",
            "Epoch 7/10\n",
            "5453/5453 [==============================] - 30s 6ms/step - loss: 0.5536 - accuracy: 0.8115 - val_loss: 0.5622 - val_accuracy: 0.8100\n",
            "Epoch 8/10\n",
            "5453/5453 [==============================] - 32s 6ms/step - loss: 0.5512 - accuracy: 0.8118 - val_loss: 0.5567 - val_accuracy: 0.8103\n",
            "Epoch 9/10\n",
            "5453/5453 [==============================] - 30s 5ms/step - loss: 0.5487 - accuracy: 0.8126 - val_loss: 0.5535 - val_accuracy: 0.8127\n",
            "Epoch 10/10\n",
            "5453/5453 [==============================] - 32s 6ms/step - loss: 0.5473 - accuracy: 0.8129 - val_loss: 0.5556 - val_accuracy: 0.8131\n"
          ]
        }
      ]
    },
    {
      "cell_type": "code",
      "source": [
        "# Evaluate the model on EMNIST test set\n",
        "score = mnist_model.evaluate(x_test, y_test, verbose=0)\n",
        "print('Test loss:', score[0])\n",
        "print('Test accuracy:', score[1])"
      ],
      "metadata": {
        "colab": {
          "base_uri": "https://localhost:8080/"
        },
        "id": "0AUyB1r_emvY",
        "outputId": "dad7fbe0-cbfc-44cc-b740-6c80cb425e0c"
      },
      "execution_count": null,
      "outputs": [
        {
          "output_type": "stream",
          "name": "stdout",
          "text": [
            "Test loss: 0.5555842518806458\n",
            "Test accuracy: 0.8130894303321838\n"
          ]
        }
      ]
    },
    {
      "cell_type": "code",
      "source": [
        "import numpy as np\n",
        "\n",
        "# Predict the labels of the test data\n",
        "y_pred = mnist_model.predict(x_test)\n",
        "\n",
        "# Convert the predictions from categorical format to integer format\n",
        "y_pred_int = np.argmax(y_pred, axis=1)\n",
        "\n",
        "# Print the first 10 predictions and their corresponding true labels\n",
        "for i in range(10):\n",
        "    print('Prediction:', y_pred_int[i], 'True Label:', np.argmax(y_test[i]))\n"
      ],
      "metadata": {
        "colab": {
          "base_uri": "https://localhost:8080/"
        },
        "id": "3d9iIuZDcJ-V",
        "outputId": "2a8830f1-ba43-4ee8-994e-5af51dc01b97"
      },
      "execution_count": null,
      "outputs": [
        {
          "output_type": "stream",
          "name": "stdout",
          "text": [
            "3636/3636 [==============================] - 8s 2ms/step\n",
            "Prediction: 1 True Label: 18\n",
            "Prediction: 42 True Label: 36\n",
            "Prediction: 0 True Label: 0\n",
            "Prediction: 3 True Label: 3\n",
            "Prediction: 33 True Label: 33\n",
            "Prediction: 30 True Label: 30\n",
            "Prediction: 24 True Label: 24\n",
            "Prediction: 40 True Label: 40\n",
            "Prediction: 5 True Label: 5\n",
            "Prediction: 8 True Label: 8\n"
          ]
        }
      ]
    },
    {
      "cell_type": "code",
      "source": [
        "import matplotlib.pyplot as plt\n",
        "\n",
        "# Display the first 10 images in the test set with their predicted and true labels\n",
        "fig, axs = plt.subplots(2, 5, figsize=(10, 5))\n",
        "axs = axs.flatten()\n",
        "for i in range(10):\n",
        "    img = x_test[i].reshape(28, 28)\n",
        "    axs[i].imshow(img, cmap='gray')\n",
        "    axs[i].set_title('Prediction: {}\\nTrue Label: {}'.format(y_pred_int[i], np.argmax(y_test[i])))\n",
        "    axs[i].axis('off')\n",
        "plt.show()"
      ],
      "metadata": {
        "colab": {
          "base_uri": "https://localhost:8080/",
          "height": 306
        },
        "id": "3KMag5I_ccQE",
        "outputId": "7d0c8478-1227-47f4-ec20-fc5a8f035441"
      },
      "execution_count": null,
      "outputs": [
        {
          "output_type": "display_data",
          "data": {
            "text/plain": [
              "<Figure size 720x360 with 10 Axes>"
            ],
            "image/png": "[encoded data removed]"
          },
          "metadata": {
            "needs_background": "light"
          }
        }
      ]
    },
    {
      "cell_type": "code",
      "source": [
        "mnist_model.save('/content/drive/MyDrive/Datasets/transfer_learning_task1_EMNIST.h5')\n",
        "mnist_model.save_weights('/content/drive/MyDrive/Datasets/task_1_EMNIST_weights.h5')"
      ],
      "metadata": {
        "id": "2NaUJa2WK6wS"
      },
      "execution_count": null,
      "outputs": []
    },
    {
      "cell_type": "code",
      "source": [
        "j"
      ],
      "metadata": {
        "id": "nJRSmAkTdtxa"
      },
      "execution_count": null,
      "outputs": []
    },
    {
      "cell_type": "code",
      "source": [],
      "metadata": {
        "id": "oTd_DdhCevtK"
      },
      "execution_count": null,
      "outputs": []
    }
  ]
}