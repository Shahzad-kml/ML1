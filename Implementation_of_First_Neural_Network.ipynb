{
  "nbformat": 4,
  "nbformat_minor": 0,
  "metadata": {
    "colab": {
      "provenance": [],
      "mount_file_id": "1Pvoc4Sdu8k0m3Puytn0T-5ZBrQ-_o5mv",
      "authorship_tag": "ABX9TyMENmCc+Ap3ArjumMzX3seA",
      "include_colab_link": true
    },
    "kernelspec": {
      "name": "python3",
      "display_name": "Python 3"
    },
    "language_info": {
      "name": "python"
    },
    "accelerator": "GPU"
  },
  "cells": [
    {
      "cell_type": "markdown",
      "metadata": {
        "id": "view-in-github",
        "colab_type": "text"
      },
      "source": [
        "<a href=\"https://colab.research.google.com/github/Shahzad-kml/ML1/blob/main/Implementation_of_First_Neural_Network.ipynb\" target=\"_parent\"><img src=\"https://colab.research.google.com/assets/colab-badge.svg\" alt=\"Open In Colab\"/></a>"
      ]
    },
    {
      "cell_type": "code",
      "execution_count": null,
      "metadata": {
        "id": "U9hCZDTLYQsR"
      },
      "outputs": [],
      "source": [
        "import pandas as pd\n",
        "import numpy as np\n",
        "import matplotlib.pyplot as plt\n",
        "import warnings\n",
        "warnings.filterwarnings('ignore')"
      ]
    },
    {
      "cell_type": "code",
      "source": [
        "data=pd.read_csv('/content/drive/MyDrive/Loan_Cleaned_data.csv')\n",
        "data.head()"
      ],
      "metadata": {
        "colab": {
          "base_uri": "https://localhost:8080/",
          "height": 288
        },
        "id": "k7MLqoplYqrf",
        "outputId": "b6294fdc-435e-4045-8b67-1cdfc5562fc6"
      },
      "execution_count": null,
      "outputs": [
        {
          "output_type": "execute_result",
          "data": {
            "text/plain": [
              "   Unnamed: 0   Loan_ID  Gender  Married  Dependents  Education  \\\n",
              "0           0  LP001002     0.0      0.0    1.000000        1.0   \n",
              "1           1  LP001003     0.0      1.0    0.666667        1.0   \n",
              "2           2  LP001005     0.0      1.0    1.000000        1.0   \n",
              "3           3  LP001006     0.0      1.0    1.000000        0.0   \n",
              "4           4  LP001008     0.0      0.0    1.000000        1.0   \n",
              "\n",
              "   Self_Employed  ApplicantIncome  CoapplicantIncome  LoanAmount  \\\n",
              "0            0.0         0.070489           0.000000    0.198860   \n",
              "1            0.0         0.054830           0.036192    0.172214   \n",
              "2            1.0         0.035250           0.000000    0.082489   \n",
              "3            0.0         0.030093           0.056592    0.160637   \n",
              "4            0.0         0.072356           0.000000    0.191027   \n",
              "\n",
              "   Loan_Amount_Term  Credit_History  Property_Area  Loan_Status  \n",
              "0           0.74359             1.0            0.5          1.0  \n",
              "1           0.74359             1.0            0.0          0.0  \n",
              "2           0.74359             1.0            0.5          1.0  \n",
              "3           0.74359             1.0            0.5          1.0  \n",
              "4           0.74359             1.0            0.5          1.0  "
            ],
            "text/html": [
              "\n",
              "  <div id=\"df-5dffa0f8-a2b0-4ca6-be70-6511475d5e6a\">\n",
              "    <div class=\"colab-df-container\">\n",
              "      <div>\n",
              "<style scoped>\n",
              "    .dataframe tbody tr th:only-of-type {\n",
              "        vertical-align: middle;\n",
              "    }\n",
              "\n",
              "    .dataframe tbody tr th {\n",
              "        vertical-align: top;\n",
              "    }\n",
              "\n",
              "    .dataframe thead th {\n",
              "        text-align: right;\n",
              "    }\n",
              "</style>\n",
              "<table border=\"1\" class=\"dataframe\">\n",
              "  <thead>\n",
              "    <tr style=\"text-align: right;\">\n",
              "      <th></th>\n",
              "      <th>Unnamed: 0</th>\n",
              "      <th>Loan_ID</th>\n",
              "      <th>Gender</th>\n",
              "      <th>Married</th>\n",
              "      <th>Dependents</th>\n",
              "      <th>Education</th>\n",
              "      <th>Self_Employed</th>\n",
              "      <th>ApplicantIncome</th>\n",
              "      <th>CoapplicantIncome</th>\n",
              "      <th>LoanAmount</th>\n",
              "      <th>Loan_Amount_Term</th>\n",
              "      <th>Credit_History</th>\n",
              "      <th>Property_Area</th>\n",
              "      <th>Loan_Status</th>\n",
              "    </tr>\n",
              "  </thead>\n",
              "  <tbody>\n",
              "    <tr>\n",
              "      <th>0</th>\n",
              "      <td>0</td>\n",
              "      <td>LP001002</td>\n",
              "      <td>0.0</td>\n",
              "      <td>0.0</td>\n",
              "      <td>1.000000</td>\n",
              "      <td>1.0</td>\n",
              "      <td>0.0</td>\n",
              "      <td>0.070489</td>\n",
              "      <td>0.000000</td>\n",
              "      <td>0.198860</td>\n",
              "      <td>0.74359</td>\n",
              "      <td>1.0</td>\n",
              "      <td>0.5</td>\n",
              "      <td>1.0</td>\n",
              "    </tr>\n",
              "    <tr>\n",
              "      <th>1</th>\n",
              "      <td>1</td>\n",
              "      <td>LP001003</td>\n",
              "      <td>0.0</td>\n",
              "      <td>1.0</td>\n",
              "      <td>0.666667</td>\n",
              "      <td>1.0</td>\n",
              "      <td>0.0</td>\n",
              "      <td>0.054830</td>\n",
              "      <td>0.036192</td>\n",
              "      <td>0.172214</td>\n",
              "      <td>0.74359</td>\n",
              "      <td>1.0</td>\n",
              "      <td>0.0</td>\n",
              "      <td>0.0</td>\n",
              "    </tr>\n",
              "    <tr>\n",
              "      <th>2</th>\n",
              "      <td>2</td>\n",
              "      <td>LP001005</td>\n",
              "      <td>0.0</td>\n",
              "      <td>1.0</td>\n",
              "      <td>1.000000</td>\n",
              "      <td>1.0</td>\n",
              "      <td>1.0</td>\n",
              "      <td>0.035250</td>\n",
              "      <td>0.000000</td>\n",
              "      <td>0.082489</td>\n",
              "      <td>0.74359</td>\n",
              "      <td>1.0</td>\n",
              "      <td>0.5</td>\n",
              "      <td>1.0</td>\n",
              "    </tr>\n",
              "    <tr>\n",
              "      <th>3</th>\n",
              "      <td>3</td>\n",
              "      <td>LP001006</td>\n",
              "      <td>0.0</td>\n",
              "      <td>1.0</td>\n",
              "      <td>1.000000</td>\n",
              "      <td>0.0</td>\n",
              "      <td>0.0</td>\n",
              "      <td>0.030093</td>\n",
              "      <td>0.056592</td>\n",
              "      <td>0.160637</td>\n",
              "      <td>0.74359</td>\n",
              "      <td>1.0</td>\n",
              "      <td>0.5</td>\n",
              "      <td>1.0</td>\n",
              "    </tr>\n",
              "    <tr>\n",
              "      <th>4</th>\n",
              "      <td>4</td>\n",
              "      <td>LP001008</td>\n",
              "      <td>0.0</td>\n",
              "      <td>0.0</td>\n",
              "      <td>1.000000</td>\n",
              "      <td>1.0</td>\n",
              "      <td>0.0</td>\n",
              "      <td>0.072356</td>\n",
              "      <td>0.000000</td>\n",
              "      <td>0.191027</td>\n",
              "      <td>0.74359</td>\n",
              "      <td>1.0</td>\n",
              "      <td>0.5</td>\n",
              "      <td>1.0</td>\n",
              "    </tr>\n",
              "  </tbody>\n",
              "</table>\n",
              "</div>\n",
              "      <button class=\"colab-df-convert\" onclick=\"convertToInteractive('df-5dffa0f8-a2b0-4ca6-be70-6511475d5e6a')\"\n",
              "              title=\"Convert this dataframe to an interactive table.\"\n",
              "              style=\"display:none;\">\n",
              "        \n",
              "  <svg xmlns=\"http://www.w3.org/2000/svg\" height=\"24px\"viewBox=\"0 0 24 24\"\n",
              "       width=\"24px\">\n",
              "    <path d=\"M0 0h24v24H0V0z\" fill=\"none\"/>\n",
              "    <path d=\"M18.56 5.44l.94 2.06.94-2.06 2.06-.94-2.06-.94-.94-2.06-.94 2.06-2.06.94zm-11 1L8.5 8.5l.94-2.06 2.06-.94-2.06-.94L8.5 2.5l-.94 2.06-2.06.94zm10 10l.94 2.06.94-2.06 2.06-.94-2.06-.94-.94-2.06-.94 2.06-2.06.94z\"/><path d=\"M17.41 7.96l-1.37-1.37c-.4-.4-.92-.59-1.43-.59-.52 0-1.04.2-1.43.59L10.3 9.45l-7.72 7.72c-.78.78-.78 2.05 0 2.83L4 21.41c.39.39.9.59 1.41.59.51 0 1.02-.2 1.41-.59l7.78-7.78 2.81-2.81c.8-.78.8-2.07 0-2.86zM5.41 20L4 18.59l7.72-7.72 1.47 1.35L5.41 20z\"/>\n",
              "  </svg>\n",
              "      </button>\n",
              "      \n",
              "  <style>\n",
              "    .colab-df-container {\n",
              "      display:flex;\n",
              "      flex-wrap:wrap;\n",
              "      gap: 12px;\n",
              "    }\n",
              "\n",
              "    .colab-df-convert {\n",
              "      background-color: #E8F0FE;\n",
              "      border: none;\n",
              "      border-radius: 50%;\n",
              "      cursor: pointer;\n",
              "      display: none;\n",
              "      fill: #1967D2;\n",
              "      height: 32px;\n",
              "      padding: 0 0 0 0;\n",
              "      width: 32px;\n",
              "    }\n",
              "\n",
              "    .colab-df-convert:hover {\n",
              "      background-color: #E2EBFA;\n",
              "      box-shadow: 0px 1px 2px rgba(60, 64, 67, 0.3), 0px 1px 3px 1px rgba(60, 64, 67, 0.15);\n",
              "      fill: #174EA6;\n",
              "    }\n",
              "\n",
              "    [theme=dark] .colab-df-convert {\n",
              "      background-color: #3B4455;\n",
              "      fill: #D2E3FC;\n",
              "    }\n",
              "\n",
              "    [theme=dark] .colab-df-convert:hover {\n",
              "      background-color: #434B5C;\n",
              "      box-shadow: 0px 1px 3px 1px rgba(0, 0, 0, 0.15);\n",
              "      filter: drop-shadow(0px 1px 2px rgba(0, 0, 0, 0.3));\n",
              "      fill: #FFFFFF;\n",
              "    }\n",
              "  </style>\n",
              "\n",
              "      <script>\n",
              "        const buttonEl =\n",
              "          document.querySelector('#df-5dffa0f8-a2b0-4ca6-be70-6511475d5e6a button.colab-df-convert');\n",
              "        buttonEl.style.display =\n",
              "          google.colab.kernel.accessAllowed ? 'block' : 'none';\n",
              "\n",
              "        async function convertToInteractive(key) {\n",
              "          const element = document.querySelector('#df-5dffa0f8-a2b0-4ca6-be70-6511475d5e6a');\n",
              "          const dataTable =\n",
              "            await google.colab.kernel.invokeFunction('convertToInteractive',\n",
              "                                                     [key], {});\n",
              "          if (!dataTable) return;\n",
              "\n",
              "          const docLinkHtml = 'Like what you see? Visit the ' +\n",
              "            '<a target=\"_blank\" href=https://colab.research.google.com/notebooks/data_table.ipynb>data table notebook</a>'\n",
              "            + ' to learn more about interactive tables.';\n",
              "          element.innerHTML = '';\n",
              "          dataTable['output_type'] = 'display_data';\n",
              "          await google.colab.output.renderOutput(dataTable, element);\n",
              "          const docLink = document.createElement('div');\n",
              "          docLink.innerHTML = docLinkHtml;\n",
              "          element.appendChild(docLink);\n",
              "        }\n",
              "      </script>\n",
              "    </div>\n",
              "  </div>\n",
              "  "
            ]
          },
          "metadata": {},
          "execution_count": 2
        }
      ]
    },
    {
      "cell_type": "code",
      "source": [
        "data=data.drop(['Unnamed: 0'],axis=1)"
      ],
      "metadata": {
        "id": "nYePipPdZVzU"
      },
      "execution_count": null,
      "outputs": []
    },
    {
      "cell_type": "code",
      "source": [
        "data.isna().sum()"
      ],
      "metadata": {
        "colab": {
          "base_uri": "https://localhost:8080/"
        },
        "id": "1Tk0r-hiZXa7",
        "outputId": "c73d4f27-1d90-49a7-e7f5-07d91fb809f0"
      },
      "execution_count": null,
      "outputs": [
        {
          "output_type": "execute_result",
          "data": {
            "text/plain": [
              "Loan_ID              0\n",
              "Gender               0\n",
              "Married              0\n",
              "Dependents           0\n",
              "Education            0\n",
              "Self_Employed        0\n",
              "ApplicantIncome      0\n",
              "CoapplicantIncome    0\n",
              "LoanAmount           0\n",
              "Loan_Amount_Term     0\n",
              "Credit_History       0\n",
              "Property_Area        0\n",
              "Loan_Status          0\n",
              "dtype: int64"
            ]
          },
          "metadata": {},
          "execution_count": 9
        }
      ]
    },
    {
      "cell_type": "code",
      "source": [
        "# Seprating the dependents and indenpendets variables\n",
        "x=data.drop(['Loan_ID','Loan_Status'],axis=1)\n",
        "y=data.Loan_Status"
      ],
      "metadata": {
        "id": "V0xql0vzZ23n"
      },
      "execution_count": null,
      "outputs": []
    },
    {
      "cell_type": "code",
      "source": [
        "# Creating the Trianing and Test set\n",
        "from sklearn.model_selection import train_test_split as tts\n",
        "train_x, test_x, train_y, test_y=tts(x,y, stratify=y, random_state=101, test_size=0.2)"
      ],
      "metadata": {
        "id": "FQfOlbZyaSFl"
      },
      "execution_count": null,
      "outputs": []
    },
    {
      "cell_type": "code",
      "source": [
        "import keras\n",
        "print(keras.__version__)"
      ],
      "metadata": {
        "colab": {
          "base_uri": "https://localhost:8080/"
        },
        "id": "J37PcQqdawxv",
        "outputId": "67dceff2-f99a-4d55-ab05-453bb5537487"
      },
      "execution_count": null,
      "outputs": [
        {
          "output_type": "stream",
          "name": "stdout",
          "text": [
            "2.8.0\n"
          ]
        }
      ]
    },
    {
      "cell_type": "code",
      "source": [
        "import tensorflow as tf\n",
        "print(tf.__version__)"
      ],
      "metadata": {
        "colab": {
          "base_uri": "https://localhost:8080/"
        },
        "id": "onPeIeAFa9Ly",
        "outputId": "c63f9e12-72b6-41cc-d637-c5eb870f51de"
      },
      "execution_count": null,
      "outputs": [
        {
          "output_type": "stream",
          "name": "stdout",
          "text": [
            "2.8.0\n"
          ]
        }
      ]
    },
    {
      "cell_type": "code",
      "source": [
        "from keras import Sequential\n",
        "from keras.layers import InputLayer, Dense"
      ],
      "metadata": {
        "id": "xQWv5oKBbCSU"
      },
      "execution_count": null,
      "outputs": []
    },
    {
      "cell_type": "code",
      "source": [
        "# Total no. of neurons for input and output\n",
        "input_neurons=train_x.shape[1]\n",
        "output_neurons=1"
      ],
      "metadata": {
        "id": "3lidJBzEbfss"
      },
      "execution_count": null,
      "outputs": []
    },
    {
      "cell_type": "code",
      "source": [
        "# Defining the Hidden Layers\n",
        "number_of_hidden_layers=2\n",
        "neuron_hidden_layer_1=10\n",
        "neuron_hidden_layer_2=5"
      ],
      "metadata": {
        "id": "Rls8mjjQbwYO"
      },
      "execution_count": null,
      "outputs": []
    },
    {
      "cell_type": "code",
      "source": [
        "# Defining the Architecture of the Model\n",
        "model=Sequential()"
      ],
      "metadata": {
        "id": "p3TP_kV_cFYt"
      },
      "execution_count": null,
      "outputs": []
    },
    {
      "cell_type": "code",
      "source": [
        "model.add(InputLayer(input_shape=(input_neurons)))\n",
        "model.add(Dense(units=neuron_hidden_layer_1, activation='relu'))\n",
        "model.add(Dense(units=neuron_hidden_layer_2, activation='relu'))\n",
        "model.add(Dense(units=output_neurons, activation='sigmoid'))"
      ],
      "metadata": {
        "id": "4HjhPt8CcSu4"
      },
      "execution_count": null,
      "outputs": []
    },
    {
      "cell_type": "code",
      "source": [
        "model.summary()"
      ],
      "metadata": {
        "colab": {
          "base_uri": "https://localhost:8080/"
        },
        "id": "L6fwCLz4dE-P",
        "outputId": "786dab6b-f5d9-4cda-e1d2-d6160f23934c"
      },
      "execution_count": null,
      "outputs": [
        {
          "output_type": "stream",
          "name": "stdout",
          "text": [
            "Model: \"sequential\"\n",
            "_________________________________________________________________\n",
            " Layer (type)                Output Shape              Param #   \n",
            "=================================================================\n",
            " dense (Dense)               (None, 10)                120       \n",
            "                                                                 \n",
            " dense_1 (Dense)             (None, 5)                 55        \n",
            "                                                                 \n",
            " dense_2 (Dense)             (None, 1)                 6         \n",
            "                                                                 \n",
            "=================================================================\n",
            "Total params: 181\n",
            "Trainable params: 181\n",
            "Non-trainable params: 0\n",
            "_________________________________________________________________\n"
          ]
        }
      ]
    },
    {
      "cell_type": "code",
      "source": [
        "# Total number of parameters including bias values \n",
        "layer_1=input_neurons*neuron_hidden_layer_1+10\n",
        "layer_2=neuron_hidden_layer_1*neuron_hidden_layer_2+5\n",
        "layer_3=neuron_hidden_layer_2*output_neurons+1\n",
        "print(layer_1, layer_2, layer_3)"
      ],
      "metadata": {
        "colab": {
          "base_uri": "https://localhost:8080/"
        },
        "id": "bsZZzawhdGiB",
        "outputId": "c30e6f7c-452d-42ad-d5a8-73af4a8ea2aa"
      },
      "execution_count": null,
      "outputs": [
        {
          "output_type": "stream",
          "name": "stdout",
          "text": [
            "120 55 6\n"
          ]
        }
      ]
    },
    {
      "cell_type": "code",
      "source": [
        "# compling the model\n",
        "model.compile(loss='binary_crossentropy', optimizer='Adam',metrics='accuracy')"
      ],
      "metadata": {
        "id": "ra2_SLUWeCpP"
      },
      "execution_count": null,
      "outputs": []
    },
    {
      "cell_type": "code",
      "source": [
        "# Trianing the model\n",
        "model_train=model.fit(train_x, train_y,epochs=50, validation_data=(test_x, test_y))"
      ],
      "metadata": {
        "colab": {
          "base_uri": "https://localhost:8080/"
        },
        "id": "y_BrZK70eiNM",
        "outputId": "a689742e-ae2d-451d-e381-b7306163d564"
      },
      "execution_count": null,
      "outputs": [
        {
          "output_type": "stream",
          "name": "stdout",
          "text": [
            "Epoch 1/50\n",
            "16/16 [==============================] - 3s 15ms/step - loss: 0.7624 - accuracy: 0.3320 - val_loss: 0.7170 - val_accuracy: 0.3821\n",
            "Epoch 2/50\n",
            "16/16 [==============================] - 0s 5ms/step - loss: 0.7059 - accuracy: 0.4969 - val_loss: 0.6789 - val_accuracy: 0.6098\n",
            "Epoch 3/50\n",
            "16/16 [==============================] - 0s 4ms/step - loss: 0.6751 - accuracy: 0.6151 - val_loss: 0.6551 - val_accuracy: 0.6911\n",
            "Epoch 4/50\n",
            "16/16 [==============================] - 0s 4ms/step - loss: 0.6536 - accuracy: 0.6640 - val_loss: 0.6362 - val_accuracy: 0.6829\n",
            "Epoch 5/50\n",
            "16/16 [==============================] - 0s 4ms/step - loss: 0.6372 - accuracy: 0.6782 - val_loss: 0.6217 - val_accuracy: 0.7073\n",
            "Epoch 6/50\n",
            "16/16 [==============================] - 0s 4ms/step - loss: 0.6243 - accuracy: 0.6843 - val_loss: 0.6099 - val_accuracy: 0.6992\n",
            "Epoch 7/50\n",
            "16/16 [==============================] - 0s 5ms/step - loss: 0.6139 - accuracy: 0.6884 - val_loss: 0.6002 - val_accuracy: 0.6911\n",
            "Epoch 8/50\n",
            "16/16 [==============================] - 0s 4ms/step - loss: 0.6059 - accuracy: 0.6884 - val_loss: 0.5926 - val_accuracy: 0.6911\n",
            "Epoch 9/50\n",
            "16/16 [==============================] - 0s 5ms/step - loss: 0.5993 - accuracy: 0.6884 - val_loss: 0.5859 - val_accuracy: 0.6911\n",
            "Epoch 10/50\n",
            "16/16 [==============================] - 0s 4ms/step - loss: 0.5940 - accuracy: 0.6884 - val_loss: 0.5789 - val_accuracy: 0.6911\n",
            "Epoch 11/50\n",
            "16/16 [==============================] - 0s 4ms/step - loss: 0.5878 - accuracy: 0.6884 - val_loss: 0.5724 - val_accuracy: 0.6911\n",
            "Epoch 12/50\n",
            "16/16 [==============================] - 0s 4ms/step - loss: 0.5816 - accuracy: 0.6884 - val_loss: 0.5660 - val_accuracy: 0.6911\n",
            "Epoch 13/50\n",
            "16/16 [==============================] - 0s 4ms/step - loss: 0.5758 - accuracy: 0.6884 - val_loss: 0.5593 - val_accuracy: 0.6911\n",
            "Epoch 14/50\n",
            "16/16 [==============================] - 0s 4ms/step - loss: 0.5691 - accuracy: 0.6884 - val_loss: 0.5522 - val_accuracy: 0.6911\n",
            "Epoch 15/50\n",
            "16/16 [==============================] - 0s 5ms/step - loss: 0.5624 - accuracy: 0.6925 - val_loss: 0.5458 - val_accuracy: 0.7073\n",
            "Epoch 16/50\n",
            "16/16 [==============================] - 0s 5ms/step - loss: 0.5557 - accuracy: 0.7047 - val_loss: 0.5372 - val_accuracy: 0.7073\n",
            "Epoch 17/50\n",
            "16/16 [==============================] - 0s 4ms/step - loss: 0.5480 - accuracy: 0.7251 - val_loss: 0.5318 - val_accuracy: 0.7236\n",
            "Epoch 18/50\n",
            "16/16 [==============================] - 0s 4ms/step - loss: 0.5414 - accuracy: 0.7576 - val_loss: 0.5252 - val_accuracy: 0.7561\n",
            "Epoch 19/50\n",
            "16/16 [==============================] - 0s 4ms/step - loss: 0.5353 - accuracy: 0.7719 - val_loss: 0.5185 - val_accuracy: 0.7805\n",
            "Epoch 20/50\n",
            "16/16 [==============================] - 0s 4ms/step - loss: 0.5285 - accuracy: 0.7902 - val_loss: 0.5136 - val_accuracy: 0.8211\n",
            "Epoch 21/50\n",
            "16/16 [==============================] - 0s 5ms/step - loss: 0.5222 - accuracy: 0.8004 - val_loss: 0.5077 - val_accuracy: 0.8211\n",
            "Epoch 22/50\n",
            "16/16 [==============================] - 0s 5ms/step - loss: 0.5157 - accuracy: 0.8045 - val_loss: 0.5015 - val_accuracy: 0.8211\n",
            "Epoch 23/50\n",
            "16/16 [==============================] - 0s 4ms/step - loss: 0.5101 - accuracy: 0.8086 - val_loss: 0.4964 - val_accuracy: 0.8211\n",
            "Epoch 24/50\n",
            "16/16 [==============================] - 0s 4ms/step - loss: 0.5044 - accuracy: 0.8086 - val_loss: 0.4904 - val_accuracy: 0.8211\n",
            "Epoch 25/50\n",
            "16/16 [==============================] - 0s 4ms/step - loss: 0.4990 - accuracy: 0.8086 - val_loss: 0.4848 - val_accuracy: 0.8211\n",
            "Epoch 26/50\n",
            "16/16 [==============================] - 0s 5ms/step - loss: 0.4947 - accuracy: 0.8086 - val_loss: 0.4798 - val_accuracy: 0.8211\n",
            "Epoch 27/50\n",
            "16/16 [==============================] - 0s 4ms/step - loss: 0.4914 - accuracy: 0.8086 - val_loss: 0.4753 - val_accuracy: 0.8211\n",
            "Epoch 28/50\n",
            "16/16 [==============================] - 0s 4ms/step - loss: 0.4871 - accuracy: 0.8086 - val_loss: 0.4716 - val_accuracy: 0.8211\n",
            "Epoch 29/50\n",
            "16/16 [==============================] - 0s 4ms/step - loss: 0.4838 - accuracy: 0.8086 - val_loss: 0.4705 - val_accuracy: 0.8211\n",
            "Epoch 30/50\n",
            "16/16 [==============================] - 0s 4ms/step - loss: 0.4814 - accuracy: 0.8086 - val_loss: 0.4674 - val_accuracy: 0.8211\n",
            "Epoch 31/50\n",
            "16/16 [==============================] - 0s 4ms/step - loss: 0.4789 - accuracy: 0.8086 - val_loss: 0.4641 - val_accuracy: 0.8211\n",
            "Epoch 32/50\n",
            "16/16 [==============================] - 0s 5ms/step - loss: 0.4774 - accuracy: 0.8086 - val_loss: 0.4630 - val_accuracy: 0.8211\n",
            "Epoch 33/50\n",
            "16/16 [==============================] - 0s 4ms/step - loss: 0.4748 - accuracy: 0.8086 - val_loss: 0.4612 - val_accuracy: 0.8211\n",
            "Epoch 34/50\n",
            "16/16 [==============================] - 0s 4ms/step - loss: 0.4738 - accuracy: 0.8086 - val_loss: 0.4591 - val_accuracy: 0.8211\n",
            "Epoch 35/50\n",
            "16/16 [==============================] - 0s 4ms/step - loss: 0.4719 - accuracy: 0.8086 - val_loss: 0.4599 - val_accuracy: 0.8211\n",
            "Epoch 36/50\n",
            "16/16 [==============================] - 0s 6ms/step - loss: 0.4705 - accuracy: 0.8086 - val_loss: 0.4585 - val_accuracy: 0.8211\n",
            "Epoch 37/50\n",
            "16/16 [==============================] - 0s 4ms/step - loss: 0.4696 - accuracy: 0.8086 - val_loss: 0.4564 - val_accuracy: 0.8211\n",
            "Epoch 38/50\n",
            "16/16 [==============================] - 0s 5ms/step - loss: 0.4694 - accuracy: 0.8086 - val_loss: 0.4561 - val_accuracy: 0.8211\n",
            "Epoch 39/50\n",
            "16/16 [==============================] - 0s 4ms/step - loss: 0.4678 - accuracy: 0.8086 - val_loss: 0.4552 - val_accuracy: 0.8211\n",
            "Epoch 40/50\n",
            "16/16 [==============================] - 0s 4ms/step - loss: 0.4674 - accuracy: 0.8065 - val_loss: 0.4581 - val_accuracy: 0.8211\n",
            "Epoch 41/50\n",
            "16/16 [==============================] - 0s 4ms/step - loss: 0.4661 - accuracy: 0.8065 - val_loss: 0.4533 - val_accuracy: 0.8211\n",
            "Epoch 42/50\n",
            "16/16 [==============================] - 0s 4ms/step - loss: 0.4653 - accuracy: 0.8086 - val_loss: 0.4526 - val_accuracy: 0.8211\n",
            "Epoch 43/50\n",
            "16/16 [==============================] - 0s 4ms/step - loss: 0.4646 - accuracy: 0.8065 - val_loss: 0.4538 - val_accuracy: 0.8211\n",
            "Epoch 44/50\n",
            "16/16 [==============================] - 0s 5ms/step - loss: 0.4643 - accuracy: 0.8086 - val_loss: 0.4551 - val_accuracy: 0.8211\n",
            "Epoch 45/50\n",
            "16/16 [==============================] - 0s 4ms/step - loss: 0.4626 - accuracy: 0.8065 - val_loss: 0.4497 - val_accuracy: 0.8211\n",
            "Epoch 46/50\n",
            "16/16 [==============================] - 0s 4ms/step - loss: 0.4629 - accuracy: 0.8065 - val_loss: 0.4513 - val_accuracy: 0.8211\n",
            "Epoch 47/50\n",
            "16/16 [==============================] - 0s 5ms/step - loss: 0.4614 - accuracy: 0.8086 - val_loss: 0.4523 - val_accuracy: 0.8211\n",
            "Epoch 48/50\n",
            "16/16 [==============================] - 0s 4ms/step - loss: 0.4621 - accuracy: 0.8086 - val_loss: 0.4497 - val_accuracy: 0.8211\n",
            "Epoch 49/50\n",
            "16/16 [==============================] - 0s 4ms/step - loss: 0.4608 - accuracy: 0.8086 - val_loss: 0.4512 - val_accuracy: 0.8211\n",
            "Epoch 50/50\n",
            "16/16 [==============================] - 0s 5ms/step - loss: 0.4606 - accuracy: 0.8086 - val_loss: 0.4516 - val_accuracy: 0.8211\n"
          ]
        }
      ]
    },
    {
      "cell_type": "code",
      "source": [
        "# Visualizing the Model Performance \n",
        "plt.plot(model_train.history['loss'])\n",
        "plt.plot(model_train.history['val_loss'])\n",
        "plt.xlabel('loss')\n",
        "plt.ylabel('epoch')\n",
        "plt.title('Model_loss')\n",
        "plt.legend(['Item','Validation'],loc='upper right')\n",
        "plt.show()"
      ],
      "metadata": {
        "colab": {
          "base_uri": "https://localhost:8080/",
          "height": 295
        },
        "id": "eV6pYHoZf7Jz",
        "outputId": "894726ea-6328-435f-fcac-6cb5c62f7132"
      },
      "execution_count": null,
      "outputs": [
        {
          "output_type": "display_data",
          "data": {
            "text/plain": [
              "<Figure size 432x288 with 1 Axes>"
            ],
            "image/png": "[encoded data removed]"
          },
          "metadata": {
            "needs_background": "light"
          }
        }
      ]
    },
    {
      "cell_type": "code",
      "source": [
        "# Visualizing the accuracy\n",
        "plt.plot(model_train.history['accuracy'])\n",
        "plt.plot(model_train.history['val_accuracy'])\n",
        "plt.title('Model_accuracy')\n",
        "plt.xlabel('accuracy')\n",
        "plt.ylabel('epoch')\n",
        "plt.legend(['Item','Validation'],loc='bottom right')\n",
        "plt.show()"
      ],
      "metadata": {
        "colab": {
          "base_uri": "https://localhost:8080/",
          "height": 295
        },
        "id": "VJXwh6IBh7TQ",
        "outputId": "70d79d84-09ae-4bea-efc4-2a0f1f9647c0"
      },
      "execution_count": null,
      "outputs": [
        {
          "output_type": "display_data",
          "data": {
            "text/plain": [
              "<Figure size 432x288 with 1 Axes>"
            ],
            "image/png": "[encoded data removed]"
          },
          "metadata": {
            "needs_background": "light"
          }
        }
      ]
    }
  ]
}