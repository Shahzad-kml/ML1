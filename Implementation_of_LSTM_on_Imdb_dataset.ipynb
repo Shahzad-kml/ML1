{
  "cells": [
    {
      "cell_type": "markdown",
      "metadata": {
        "id": "view-in-github",
        "colab_type": "text"
      },
      "source": [
        "<a href=\"https://colab.research.google.com/github/Shahzad-kml/ML1/blob/main/Implementation_of_LSTM_on_Imdb_dataset.ipynb\" target=\"_parent\"><img src=\"https://colab.research.google.com/assets/colab-badge.svg\" alt=\"Open In Colab\"/></a>"
      ]
    },
    {
      "cell_type": "code",
      "execution_count": null,
      "metadata": {
        "id": "PHv8Bc60xzr-"
      },
      "outputs": [],
      "source": [
        "from keras.utils import pad_sequences\n",
        "from keras.models import Sequential \n",
        "from keras.layers import Dense, Dropout, Embedding, LSTM\n",
        "from keras.datasets import imdb"
      ]
    },
    {
      "cell_type": "code",
      "execution_count": null,
      "metadata": {
        "id": "5RFbk0hby1KG"
      },
      "outputs": [],
      "source": [
        "num_words = 200\n",
        "(train_x, train_y), (test_x, test_y)= imdb.load_data(num_words= num_words)"
      ]
    },
    {
      "cell_type": "code",
      "execution_count": null,
      "metadata": {
        "colab": {
          "base_uri": "https://localhost:8080/"
        },
        "id": "xqHUscMpzIuD",
        "outputId": "7086f324-cbf6-4463-f92d-287f2e5f8400"
      },
      "outputs": [
        {
          "data": {
            "text/plain": [
              "((25000, 200), numpy.ndarray)"
            ]
          },
          "execution_count": 10,
          "metadata": {},
          "output_type": "execute_result"
        }
      ],
      "source": [
        "train_x = pad_sequences(train_x, maxlen = 200)\n",
        "test_x = pad_sequences(test_x, maxlen = 200)\n",
        "train_x.shape, type(train_x)"
      ]
    },
    {
      "cell_type": "code",
      "execution_count": null,
      "metadata": {
        "colab": {
          "base_uri": "https://localhost:8080/"
        },
        "id": "3TTrmU-0zaNy",
        "outputId": "32a8699d-2a6d-481a-ad42-2391112046f5"
      },
      "outputs": [
        {
          "name": "stderr",
          "output_type": "stream",
          "text": [
            "WARNING:tensorflow:Layer lstm_1 will not use cuDNN kernels since it doesn't meet the criteria. It will use a generic GPU kernel as fallback when running on GPU.\n"
          ]
        },
        {
          "name": "stdout",
          "output_type": "stream",
          "text": [
            "Model: \"sequential_1\"\n",
            "_________________________________________________________________\n",
            " Layer (type)                Output Shape              Param #   \n",
            "=================================================================\n",
            " embedding_1 (Embedding)     (None, 200, 50)           10000     \n",
            "                                                                 \n",
            " dropout_3 (Dropout)         (None, 200, 50)           0         \n",
            "                                                                 \n",
            " lstm_1 (LSTM)               (None, 500)               1102000   \n",
            "                                                                 \n",
            " dense_3 (Dense)             (None, 500)               250500    \n",
            "                                                                 \n",
            " dropout_4 (Dropout)         (None, 500)               0         \n",
            "                                                                 \n",
            " dense_4 (Dense)             (None, 250)               125250    \n",
            "                                                                 \n",
            " dropout_5 (Dropout)         (None, 250)               0         \n",
            "                                                                 \n",
            " dense_5 (Dense)             (None, 1)                 251       \n",
            "                                                                 \n",
            "=================================================================\n",
            "Total params: 1,488,001\n",
            "Trainable params: 1,488,001\n",
            "Non-trainable params: 0\n",
            "_________________________________________________________________\n"
          ]
        }
      ],
      "source": [
        "model = Sequential()\n",
        "model.add(Embedding(num_words, 50, input_length= 200))\n",
        "model.add(Dropout(0.2))\n",
        "model.add(LSTM(500, dropout=0.2, recurrent_dropout= 0.2))\n",
        "# model.add(LSTM(100, dropout= 0.2, recurrent_dropout = 0.2))\n",
        "model.add(Dense(500, activation = 'relu'))\n",
        "model.add(Dropout(0.2))\n",
        "model.add(Dense(250, activation = 'relu'))\n",
        "model.add(Dropout(0.2))\n",
        "model.add(Dense(1, activation = 'sigmoid'))\n",
        "model.compile( loss= 'binary_crossentropy', optimizer= 'adam', metrics= ['accuracy'])\n",
        "model.summary()"
      ]
    },
    {
      "cell_type": "code",
      "execution_count": null,
      "metadata": {
        "colab": {
          "base_uri": "https://localhost:8080/"
        },
        "id": "TwMGM0w_1L2J",
        "outputId": "27db41b1-f2b9-4728-8bbc-e6324f29bb47"
      },
      "outputs": [
        {
          "name": "stdout",
          "output_type": "stream",
          "text": [
            "Epoch 1/10\n",
            "196/196 [==============================] - 209s 1s/step - loss: 0.6888 - accuracy: 0.5800 - val_loss: 0.6295 - val_accuracy: 0.6381\n",
            "Epoch 2/10\n",
            "196/196 [==============================] - 218s 1s/step - loss: 0.6374 - accuracy: 0.6362 - val_loss: 0.6679 - val_accuracy: 0.6274\n",
            "Epoch 3/10\n",
            "196/196 [==============================] - 208s 1s/step - loss: 0.6318 - accuracy: 0.6458 - val_loss: 0.6551 - val_accuracy: 0.6001\n",
            "Epoch 4/10\n",
            "196/196 [==============================] - 219s 1s/step - loss: 0.6549 - accuracy: 0.6222 - val_loss: 0.6474 - val_accuracy: 0.6203\n",
            "Epoch 5/10\n",
            "196/196 [==============================] - 209s 1s/step - loss: 0.6475 - accuracy: 0.6513 - val_loss: 0.5709 - val_accuracy: 0.6950\n",
            "Epoch 6/10\n",
            "196/196 [==============================] - 215s 1s/step - loss: 0.5777 - accuracy: 0.6985 - val_loss: 0.5515 - val_accuracy: 0.7324\n",
            "Epoch 7/10\n",
            "196/196 [==============================] - 213s 1s/step - loss: 0.5433 - accuracy: 0.7320 - val_loss: 0.5067 - val_accuracy: 0.7530\n",
            "Epoch 8/10\n",
            "196/196 [==============================] - 209s 1s/step - loss: 0.5320 - accuracy: 0.7386 - val_loss: 0.5993 - val_accuracy: 0.7434\n",
            "Epoch 9/10\n",
            "196/196 [==============================] - 206s 1s/step - loss: 0.5255 - accuracy: 0.7488 - val_loss: 0.5320 - val_accuracy: 0.7326\n",
            "Epoch 10/10\n",
            "196/196 [==============================] - 211s 1s/step - loss: 0.5113 - accuracy: 0.7531 - val_loss: 0.4932 - val_accuracy: 0.7557\n"
          ]
        },
        {
          "data": {
            "text/plain": [
              "<keras.callbacks.History at 0x7f3e69cb25e0>"
            ]
          },
          "execution_count": 13,
          "metadata": {},
          "output_type": "execute_result"
        }
      ],
      "source": [
        "model.fit(train_x, train_y, batch_size= 128, epochs= 10, validation_data=(test_x, test_y))"
      ]
    },
    {
      "cell_type": "code",
      "execution_count": null,
      "metadata": {
        "id": "EN7XeFs78Znn"
      },
      "outputs": [],
      "source": [
        "from tensorflow.keras.utils import plot_model\n",
        "plot_model(model)\n",
        "model.save('/content/drive/MyDrive/Datasets/LSTM_imbd.h5')"
      ]
    },
    {
      "cell_type": "code",
      "execution_count": null,
      "metadata": {
        "colab": {
          "base_uri": "https://localhost:8080/"
        },
        "id": "SjcDIT4a2TSL",
        "outputId": "2584fc15-38e7-4d23-a50c-4273ebe2a269"
      },
      "outputs": [
        {
          "name": "stdout",
          "output_type": "stream",
          "text": [
            "782/782 [==============================] - 60s 76ms/step - loss: 0.4932 - accuracy: 0.7557\n",
            "\n",
            " Accuracy: 0.7556800246238708\n"
          ]
        }
      ],
      "source": [
        "print('\\n Accuracy: {}'.format(model.evaluate(test_x, test_y)[1]))"
      ]
    },
    {
      "cell_type": "code",
      "execution_count": null,
      "metadata": {
        "colab": {
          "base_uri": "https://localhost:8080/"
        },
        "id": "mfyAZYhQA_EC",
        "outputId": "59a681e0-aa37-4faf-9151-2b1a36342ded"
      },
      "outputs": [
        {
          "name": "stdout",
          "output_type": "stream",
          "text": [
            "782/782 [==============================] - 62s 78ms/step\n"
          ]
        }
      ],
      "source": [
        "y_pred= model.predict(test_x)"
      ]
    },
    {
      "cell_type": "code",
      "execution_count": null,
      "metadata": {
        "colab": {
          "base_uri": "https://localhost:8080/"
        },
        "id": "LcUQF8uWDUkS",
        "outputId": "4ec76c67-2d1d-465c-8d9d-0124aa2675d7"
      },
      "outputs": [
        {
          "name": "stdout",
          "output_type": "stream",
          "text": [
            "25000\n"
          ]
        }
      ],
      "source": [
        "print(len(y_pred))"
      ]
    },
    {
      "cell_type": "code",
      "execution_count": null,
      "metadata": {
        "colab": {
          "base_uri": "https://localhost:8080/"
        },
        "id": "ZNxnlSi_DqOW",
        "outputId": "a2039e8a-7a5e-4957-bcee-f8b68ca75d59"
      },
      "outputs": [
        {
          "name": "stdout",
          "output_type": "stream",
          "text": [
            "              precision    recall  f1-score   support\n",
            "\n",
            "           0       0.75      0.77      0.76     12500\n",
            "           1       0.76      0.74      0.75     12500\n",
            "\n",
            "    accuracy                           0.76     25000\n",
            "   macro avg       0.76      0.76      0.76     25000\n",
            "weighted avg       0.76      0.76      0.76     25000\n",
            "\n"
          ]
        }
      ],
      "source": [
        "from sklearn.metrics import classification_report\n",
        "print( classification_report( test_y , 1 * ( y_pred > 0.5 ),digits = 2) )"
      ]
    },
    {
      "cell_type": "code",
      "execution_count": null,
      "metadata": {
        "id": "qT4E1FvkGBMI"
      },
      "outputs": [],
      "source": [
        "import pandas as pd\n",
        "\n",
        "import numpy as np\n",
        "\n",
        "import sklearn\n",
        "\n",
        "from sklearn.model_selection import train_test_split\n",
        "\n",
        "from sklearn.metrics import classification_report,roc_auc_score,confusion_matrix,accuracy_score,f1_score,roc_curve\n",
        "\n",
        "from sklearn.preprocessing import LabelEncoder\n",
        "\n",
        "from keras.utils import pad_sequences\n",
        "\n",
        "from keras.models import Sequential\n",
        "\n",
        "from keras.callbacks import ReduceLROnPlateau, EarlyStopping\n",
        "\n",
        "from keras.layers import Activation, Dense, Dropout, Embedding, LSTM\n",
        "\n",
        "import re\n",
        "\n",
        "from IPython.display import display\n",
        "\n",
        "import os\n",
        "\n",
        "import string\n",
        "\n",
        "import time\n",
        "\n",
        "import random\n",
        "\n",
        "import matplotlib.pyplot as plt\n",
        "\n",
        "from tensorflow.keras.datasets import imdb\n",
        "\n",
        "random.seed(10)"
      ]
    },
    {
      "cell_type": "code",
      "execution_count": null,
      "metadata": {
        "id": "EI1z0natP0Ut",
        "colab": {
          "base_uri": "https://localhost:8080/"
        },
        "outputId": "1db0d9f6-c073-4287-b8f2-36750f5b21c1"
      },
      "outputs": [
        {
          "output_type": "stream",
          "name": "stdout",
          "text": [
            "Downloading data from https://storage.googleapis.com/tensorflow/tf-keras-datasets/imdb.npz\n",
            "17464789/17464789 [==============================] - 1s 0us/step\n"
          ]
        }
      ],
      "source": [
        "num_words = 5000\n",
        "\n",
        "( X_train , y_train ),( X_test , y_test ) = imdb.load_data(num_words = 5000)"
      ]
    },
    {
      "cell_type": "code",
      "execution_count": null,
      "metadata": {
        "id": "V3sfiteAQBak"
      },
      "outputs": [],
      "source": [
        "sequence_length = 300\n",
        "\n",
        "batch_size = 128\n",
        "\n",
        "X_train_seq = pad_sequences( X_train, maxlen = sequence_length)\n",
        "\n",
        "X_test_seq = pad_sequences( X_test, maxlen = sequence_length)"
      ]
    },
    {
      "cell_type": "code",
      "execution_count": null,
      "metadata": {
        "id": "yCTmaiQ8QfBY"
      },
      "outputs": [],
      "source": [
        "encoder = LabelEncoder()\n",
        "\n",
        "encoder.fit(y_train)\n",
        "\n",
        "y_train_transformed = encoder.transform(y_train).reshape(-1,1)\n",
        "\n",
        "y_test_transformed = encoder.transform(y_test).reshape(-1,1)"
      ]
    },
    {
      "cell_type": "code",
      "execution_count": null,
      "metadata": {
        "colab": {
          "base_uri": "https://localhost:8080/"
        },
        "id": "6HWWQZnFQLId",
        "outputId": "4bf3b658-4787-4dc7-d004-529ac6695ffc"
      },
      "outputs": [
        {
          "output_type": "stream",
          "name": "stderr",
          "text": [
            "WARNING:tensorflow:Layer lstm will not use cuDNN kernels since it doesn't meet the criteria. It will use a generic GPU kernel as fallback when running on GPU.\n"
          ]
        },
        {
          "output_type": "stream",
          "name": "stdout",
          "text": [
            "Model: \"sequential\"\n",
            "_________________________________________________________________\n",
            " Layer (type)                Output Shape              Param #   \n",
            "=================================================================\n",
            " embedding (Embedding)       (None, 300, 10)           50000     \n",
            "                                                                 \n",
            " lstm (LSTM)                 (None, 128)               71168     \n",
            "                                                                 \n",
            " dense (Dense)               (None, 1)                 129       \n",
            "                                                                 \n",
            "=================================================================\n",
            "Total params: 121,297\n",
            "Trainable params: 121,297\n",
            "Non-trainable params: 0\n",
            "_________________________________________________________________\n",
            "Epoch 1/5\n",
            "176/176 [==============================] - ETA: 0s - loss: 0.6546 - accuracy: 0.6323"
          ]
        },
        {
          "output_type": "stream",
          "name": "stderr",
          "text": [
            "WARNING:tensorflow:Early stopping conditioned on metric `val_acc` which is not available. Available metrics are: loss,accuracy,val_loss,val_accuracy,lr\n"
          ]
        },
        {
          "output_type": "stream",
          "name": "stdout",
          "text": [
            "\b\b\b\b\b\b\b\b\b\b\b\b\b\b\b\b\b\b\b\b\b\b\b\b\b\b\b\b\b\b\b\b\b\b\b\b\b\b\b\b\b\b\b\b\b\b\b\b\b\b\b\b\b\b\b\b\b\b\b\b\b\b\b\b\b\b\b\b\b\b\b\b\b\b\b\b\b\b\b\b\b\b\b\b\r176/176 [==============================] - 290s 2s/step - loss: 0.6546 - accuracy: 0.6323 - val_loss: 0.4685 - val_accuracy: 0.7796 - lr: 0.0010\n",
            "Epoch 2/5\n",
            "176/176 [==============================] - ETA: 0s - loss: 0.4347 - accuracy: 0.8107"
          ]
        },
        {
          "output_type": "stream",
          "name": "stderr",
          "text": [
            "WARNING:tensorflow:Early stopping conditioned on metric `val_acc` which is not available. Available metrics are: loss,accuracy,val_loss,val_accuracy,lr\n"
          ]
        },
        {
          "output_type": "stream",
          "name": "stdout",
          "text": [
            "\b\b\b\b\b\b\b\b\b\b\b\b\b\b\b\b\b\b\b\b\b\b\b\b\b\b\b\b\b\b\b\b\b\b\b\b\b\b\b\b\b\b\b\b\b\b\b\b\b\b\b\b\b\b\b\b\b\b\b\b\b\b\b\b\b\b\b\b\b\b\b\b\b\b\b\b\b\b\b\b\b\b\b\b\r176/176 [==============================] - 274s 2s/step - loss: 0.4347 - accuracy: 0.8107 - val_loss: 0.4215 - val_accuracy: 0.8132 - lr: 0.0010\n",
            "Epoch 3/5\n",
            "176/176 [==============================] - ETA: 0s - loss: 0.3089 - accuracy: 0.8741"
          ]
        },
        {
          "output_type": "stream",
          "name": "stderr",
          "text": [
            "WARNING:tensorflow:Early stopping conditioned on metric `val_acc` which is not available. Available metrics are: loss,accuracy,val_loss,val_accuracy,lr\n"
          ]
        },
        {
          "output_type": "stream",
          "name": "stdout",
          "text": [
            "\b\b\b\b\b\b\b\b\b\b\b\b\b\b\b\b\b\b\b\b\b\b\b\b\b\b\b\b\b\b\b\b\b\b\b\b\b\b\b\b\b\b\b\b\b\b\b\b\b\b\b\b\b\b\b\b\b\b\b\b\b\b\b\b\b\b\b\b\b\b\b\b\b\b\b\b\b\b\b\b\b\b\b\b\r176/176 [==============================] - 267s 2s/step - loss: 0.3089 - accuracy: 0.8741 - val_loss: 0.3129 - val_accuracy: 0.8732 - lr: 0.0010\n",
            "Epoch 4/5\n",
            "176/176 [==============================] - ETA: 0s - loss: 0.2790 - accuracy: 0.8904"
          ]
        },
        {
          "output_type": "stream",
          "name": "stderr",
          "text": [
            "WARNING:tensorflow:Early stopping conditioned on metric `val_acc` which is not available. Available metrics are: loss,accuracy,val_loss,val_accuracy,lr\n"
          ]
        },
        {
          "output_type": "stream",
          "name": "stdout",
          "text": [
            "\b\b\b\b\b\b\b\b\b\b\b\b\b\b\b\b\b\b\b\b\b\b\b\b\b\b\b\b\b\b\b\b\b\b\b\b\b\b\b\b\b\b\b\b\b\b\b\b\b\b\b\b\b\b\b\b\b\b\b\b\b\b\b\b\b\b\b\b\b\b\b\b\b\b\b\b\b\b\b\b\b\b\b\b\r176/176 [==============================] - 268s 2s/step - loss: 0.2790 - accuracy: 0.8904 - val_loss: 0.3319 - val_accuracy: 0.8672 - lr: 0.0010\n",
            "Epoch 5/5\n",
            "176/176 [==============================] - ETA: 0s - loss: 0.2502 - accuracy: 0.9033"
          ]
        },
        {
          "output_type": "stream",
          "name": "stderr",
          "text": [
            "WARNING:tensorflow:Early stopping conditioned on metric `val_acc` which is not available. Available metrics are: loss,accuracy,val_loss,val_accuracy,lr\n"
          ]
        },
        {
          "output_type": "stream",
          "name": "stdout",
          "text": [
            "176/176 [==============================] - 266s 2s/step - loss: 0.2502 - accuracy: 0.9033 - val_loss: 0.3157 - val_accuracy: 0.8692 - lr: 0.0010\n",
            "196/196 [==============================] - 21s 108ms/step - loss: 0.3174 - accuracy: 0.8689\n",
            "Accuracy: 0.8689\n",
            "Loss: 0.31736499071121216\n"
          ]
        }
      ],
      "source": [
        "model = Sequential()\n",
        "e = Embedding( num_words , 10 , input_length = sequence_length )\n",
        "model.add(e)\n",
        "\n",
        "model.add(LSTM( 128 , dropout = 0.25, recurrent_dropout = 0.25))\n",
        "\n",
        "model.add(Dense(1, activation = 'sigmoid' ))\n",
        "\n",
        "model.summary()\n",
        "\n",
        "model.compile( optimizer = \"adam\" , loss = 'binary_crossentropy' , metrics = ['accuracy'] )\n",
        "\n",
        "early_stopper = EarlyStopping( monitor = 'val_acc' , min_delta = 0.0005, patience = 3 )\n",
        "\n",
        "reduce_lr = ReduceLROnPlateau( monitor = 'val_loss' , patience = 2 , cooldown = 0)\n",
        "\n",
        "callbacks = [ reduce_lr , early_stopper]\n",
        "\n",
        "train_history = model.fit( X_train_seq , y_train_transformed , batch_size = batch_size, epochs = 5,validation_split = 0.1 , verbose = 1 , callbacks = callbacks)\n",
        "\n",
        "score = model.evaluate( X_test_seq , y_test_transformed , batch_size = batch_size)\n",
        "\n",
        "print( \"Accuracy: {:0.4}\".format( score[1] ))\n",
        "\n",
        "print( \"Loss:\", score[0] )"
      ]
    },
    {
      "cell_type": "code",
      "execution_count": null,
      "metadata": {
        "colab": {
          "base_uri": "https://localhost:8080/"
        },
        "id": "-SISowvIRBlD",
        "outputId": "a526d82a-a500-4457-fbb0-0f6945fbbd45"
      },
      "outputs": [
        {
          "output_type": "stream",
          "name": "stdout",
          "text": [
            "782/782 [==============================] - 91s 116ms/step\n"
          ]
        }
      ],
      "source": [
        "y_pred = model.predict( X_test_seq )"
      ]
    },
    {
      "cell_type": "code",
      "execution_count": null,
      "metadata": {
        "colab": {
          "base_uri": "https://localhost:8080/"
        },
        "id": "FtTGqNpxQPcM",
        "outputId": "71cb34b8-894f-4327-c4e1-738f8da207ed"
      },
      "outputs": [
        {
          "output_type": "stream",
          "name": "stdout",
          "text": [
            " f1 score: 86.5\n",
            " ROC AUC: 0.94\n",
            "              precision    recall  f1-score   support\n",
            "\n",
            "           0      0.846     0.901     0.873     12500\n",
            "           1      0.894     0.837     0.865     12500\n",
            "\n",
            "    accuracy                          0.869     25000\n",
            "   macro avg      0.870     0.869     0.869     25000\n",
            "weighted avg      0.870     0.869     0.869     25000\n",
            "\n"
          ]
        }
      ],
      "source": [
        "print(' f1 score: {:0.3}'.format( 100*f1_score( y_test_transformed , 1 * ( y_pred > 0.5))))\n",
        "print(' ROC AUC: {:0.3}'.format( roc_auc_score( y_test_transformed , y_pred)) )\n",
        "print( classification_report( y_test_transformed , 1 * ( y_pred > 0.5 ),digits = 3) )"
      ]
    },
    {
      "cell_type": "code",
      "execution_count": null,
      "metadata": {
        "colab": {
          "base_uri": "https://localhost:8080/",
          "height": 830
        },
        "id": "jg7_9DVUQ4b0",
        "outputId": "528fb945-574c-4736-a44f-7be80b78c41b"
      },
      "outputs": [
        {
          "output_type": "display_data",
          "data": {
            "text/plain": [
              "<Figure size 1215x486 with 1 Axes>"
            ],
            "image/png": "[encoded data removed]"
          },
          "metadata": {
            "needs_background": "light"
          }
        },
        {
          "output_type": "display_data",
          "data": {
            "text/plain": [
              "<Figure size 1215x486 with 1 Axes>"
            ],
            "image/png": "[encoded data removed]"
          },
          "metadata": {
            "needs_background": "light"
          }
        }
      ],
      "source": [
        "plt.figure(figsize = (15,6), dpi = 81)\n",
        "plt.plot(train_history.history['accuracy'])\n",
        "plt.plot(train_history.history['val_accuracy'])\n",
        "plt.title('model accuracy')\n",
        "plt.ylabel('accuracy')\n",
        "plt.xlabel('epoch')\n",
        "plt.legend(['accuracy', 'val_accuracy'], loc='upper left')\n",
        "plt.show()\n",
        "# summarize history for loss\n",
        "plt.figure(figsize = (15,6), dpi = 81)\n",
        "plt.plot(train_history.history['loss'])\n",
        "plt.plot(train_history.history['val_loss'])\n",
        "plt.title('model loss')\n",
        "plt.ylabel('loss')\n",
        "plt.xlabel('epoch')\n",
        "plt.legend(['loss', 'val_loss'], loc='upper right')\n",
        "plt.show()"
      ]
    },
    {
      "cell_type": "code",
      "execution_count": null,
      "metadata": {
        "id": "M2vw7h-UVBFp"
      },
      "outputs": [],
      "source": [
        "model.save('/content/drive/MyDrive/Datasets/LSTM_imbd2.h5')"
      ]
    },
    {
      "cell_type": "code",
      "source": [],
      "metadata": {
        "id": "tlA9fAgBxeHT"
      },
      "execution_count": null,
      "outputs": []
    }
  ],
  "metadata": {
    "accelerator": "GPU",
    "colab": {
      "provenance": [],
      "mount_file_id": "1yQdCG4H9Wynb1qLbd4KcTBIq4v4vs0sg",
      "authorship_tag": "ABX9TyMs1uLhQ2e5PfV3iNAxM2vG",
      "include_colab_link": true
    },
    "gpuClass": "standard",
    "kernelspec": {
      "display_name": "Python 3",
      "name": "python3"
    },
    "language_info": {
      "name": "python"
    }
  },
  "nbformat": 4,
  "nbformat_minor": 0
}