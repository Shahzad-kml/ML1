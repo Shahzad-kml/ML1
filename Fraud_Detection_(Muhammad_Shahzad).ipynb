{
  "nbformat": 4,
  "nbformat_minor": 0,
  "metadata": {
    "colab": {
      "provenance": [],
      "authorship_tag": "ABX9TyNVK++aqi3m6+ANOWZbbLBt",
      "include_colab_link": true
    },
    "kernelspec": {
      "name": "python3",
      "display_name": "Python 3"
    },
    "language_info": {
      "name": "python"
    },
    "accelerator": "GPU",
    "gpuClass": "standard"
  },
  "cells": [
    {
      "cell_type": "markdown",
      "metadata": {
        "id": "view-in-github",
        "colab_type": "text"
      },
      "source": [
        "<a href=\"https://colab.research.google.com/github/Shahzad-kml/ML1/blob/main/Fraud_Detection_(Muhammad_Shahzad).ipynb\" target=\"_parent\"><img src=\"https://colab.research.google.com/assets/colab-badge.svg\" alt=\"Open In Colab\"/></a>"
      ]
    },
    {
      "cell_type": "markdown",
      "source": [
        "**Importing the required libraries**"
      ],
      "metadata": {
        "id": "9y1M73msctwh"
      }
    },
    {
      "cell_type": "code",
      "execution_count": null,
      "metadata": {
        "id": "mmlQuMq9cmao"
      },
      "outputs": [],
      "source": [
        "import pandas as pd\n",
        "import numpy as np\n",
        "import scipy\n",
        "import seaborn as sns\n",
        "import matplotlib.pyplot as plt\n",
        "from sklearn.metrics import classification_report, accuracy_score\n",
        "from sklearn.preprocessing import LabelEncoder\n",
        "from sklearn.ensemble import IsolationForest \n",
        "from sklearn.neighbors import LocalOutlierFactor\n",
        "from sklearn.svm import OneClassSVM\n",
        "from pylab import rcParams\n",
        "rcParams['figure.figsize']=10,5\n",
        "Random_seed=50\n",
        "Labels=['Normal','Fraud']"
      ]
    },
    {
      "cell_type": "markdown",
      "source": [
        "**Importing the File**"
      ],
      "metadata": {
        "id": "sL2oZ_BZKqik"
      }
    },
    {
      "cell_type": "code",
      "source": [
        "data=pd.read_csv('/content/Fraud.csv')\n",
        "data.head()"
      ],
      "metadata": {
        "colab": {
          "base_uri": "https://localhost:8080/",
          "height": 206
        },
        "id": "KzE1o7fWd6sg",
        "outputId": "e6a8b534-ab49-4733-ef31-cb220a98486c"
      },
      "execution_count": null,
      "outputs": [
        {
          "output_type": "execute_result",
          "data": {
            "text/plain": [
              "   step      type    amount     nameOrig  oldbalanceOrg  newbalanceOrig  \\\n",
              "0     1   PAYMENT   9839.64  C1231006815       170136.0       160296.36   \n",
              "1     1   PAYMENT   1864.28  C1666544295        21249.0        19384.72   \n",
              "2     1  TRANSFER    181.00  C1305486145          181.0            0.00   \n",
              "3     1  CASH_OUT    181.00   C840083671          181.0            0.00   \n",
              "4     1   PAYMENT  11668.14  C2048537720        41554.0        29885.86   \n",
              "\n",
              "      nameDest  oldbalanceDest  newbalanceDest  isFraud  isFlaggedFraud  \n",
              "0  M1979787155             0.0             0.0      0.0             0.0  \n",
              "1  M2044282225             0.0             0.0      0.0             0.0  \n",
              "2   C553264065             0.0             0.0      1.0             0.0  \n",
              "3    C38997010         21182.0             0.0      1.0             0.0  \n",
              "4  M1230701703             0.0             0.0      0.0             0.0  "
            ],
            "text/html": [
              "\n",
              "  <div id=\"df-9f3bf65b-b19f-4395-9153-f9852333672e\">\n",
              "    <div class=\"colab-df-container\">\n",
              "      <div>\n",
              "<style scoped>\n",
              "    .dataframe tbody tr th:only-of-type {\n",
              "        vertical-align: middle;\n",
              "    }\n",
              "\n",
              "    .dataframe tbody tr th {\n",
              "        vertical-align: top;\n",
              "    }\n",
              "\n",
              "    .dataframe thead th {\n",
              "        text-align: right;\n",
              "    }\n",
              "</style>\n",
              "<table border=\"1\" class=\"dataframe\">\n",
              "  <thead>\n",
              "    <tr style=\"text-align: right;\">\n",
              "      <th></th>\n",
              "      <th>step</th>\n",
              "      <th>type</th>\n",
              "      <th>amount</th>\n",
              "      <th>nameOrig</th>\n",
              "      <th>oldbalanceOrg</th>\n",
              "      <th>newbalanceOrig</th>\n",
              "      <th>nameDest</th>\n",
              "      <th>oldbalanceDest</th>\n",
              "      <th>newbalanceDest</th>\n",
              "      <th>isFraud</th>\n",
              "      <th>isFlaggedFraud</th>\n",
              "    </tr>\n",
              "  </thead>\n",
              "  <tbody>\n",
              "    <tr>\n",
              "      <th>0</th>\n",
              "      <td>1</td>\n",
              "      <td>PAYMENT</td>\n",
              "      <td>9839.64</td>\n",
              "      <td>C1231006815</td>\n",
              "      <td>170136.0</td>\n",
              "      <td>160296.36</td>\n",
              "      <td>M1979787155</td>\n",
              "      <td>0.0</td>\n",
              "      <td>0.0</td>\n",
              "      <td>0.0</td>\n",
              "      <td>0.0</td>\n",
              "    </tr>\n",
              "    <tr>\n",
              "      <th>1</th>\n",
              "      <td>1</td>\n",
              "      <td>PAYMENT</td>\n",
              "      <td>1864.28</td>\n",
              "      <td>C1666544295</td>\n",
              "      <td>21249.0</td>\n",
              "      <td>19384.72</td>\n",
              "      <td>M2044282225</td>\n",
              "      <td>0.0</td>\n",
              "      <td>0.0</td>\n",
              "      <td>0.0</td>\n",
              "      <td>0.0</td>\n",
              "    </tr>\n",
              "    <tr>\n",
              "      <th>2</th>\n",
              "      <td>1</td>\n",
              "      <td>TRANSFER</td>\n",
              "      <td>181.00</td>\n",
              "      <td>C1305486145</td>\n",
              "      <td>181.0</td>\n",
              "      <td>0.00</td>\n",
              "      <td>C553264065</td>\n",
              "      <td>0.0</td>\n",
              "      <td>0.0</td>\n",
              "      <td>1.0</td>\n",
              "      <td>0.0</td>\n",
              "    </tr>\n",
              "    <tr>\n",
              "      <th>3</th>\n",
              "      <td>1</td>\n",
              "      <td>CASH_OUT</td>\n",
              "      <td>181.00</td>\n",
              "      <td>C840083671</td>\n",
              "      <td>181.0</td>\n",
              "      <td>0.00</td>\n",
              "      <td>C38997010</td>\n",
              "      <td>21182.0</td>\n",
              "      <td>0.0</td>\n",
              "      <td>1.0</td>\n",
              "      <td>0.0</td>\n",
              "    </tr>\n",
              "    <tr>\n",
              "      <th>4</th>\n",
              "      <td>1</td>\n",
              "      <td>PAYMENT</td>\n",
              "      <td>11668.14</td>\n",
              "      <td>C2048537720</td>\n",
              "      <td>41554.0</td>\n",
              "      <td>29885.86</td>\n",
              "      <td>M1230701703</td>\n",
              "      <td>0.0</td>\n",
              "      <td>0.0</td>\n",
              "      <td>0.0</td>\n",
              "      <td>0.0</td>\n",
              "    </tr>\n",
              "  </tbody>\n",
              "</table>\n",
              "</div>\n",
              "      <button class=\"colab-df-convert\" onclick=\"convertToInteractive('df-9f3bf65b-b19f-4395-9153-f9852333672e')\"\n",
              "              title=\"Convert this dataframe to an interactive table.\"\n",
              "              style=\"display:none;\">\n",
              "        \n",
              "  <svg xmlns=\"http://www.w3.org/2000/svg\" height=\"24px\"viewBox=\"0 0 24 24\"\n",
              "       width=\"24px\">\n",
              "    <path d=\"M0 0h24v24H0V0z\" fill=\"none\"/>\n",
              "    <path d=\"M18.56 5.44l.94 2.06.94-2.06 2.06-.94-2.06-.94-.94-2.06-.94 2.06-2.06.94zm-11 1L8.5 8.5l.94-2.06 2.06-.94-2.06-.94L8.5 2.5l-.94 2.06-2.06.94zm10 10l.94 2.06.94-2.06 2.06-.94-2.06-.94-.94-2.06-.94 2.06-2.06.94z\"/><path d=\"M17.41 7.96l-1.37-1.37c-.4-.4-.92-.59-1.43-.59-.52 0-1.04.2-1.43.59L10.3 9.45l-7.72 7.72c-.78.78-.78 2.05 0 2.83L4 21.41c.39.39.9.59 1.41.59.51 0 1.02-.2 1.41-.59l7.78-7.78 2.81-2.81c.8-.78.8-2.07 0-2.86zM5.41 20L4 18.59l7.72-7.72 1.47 1.35L5.41 20z\"/>\n",
              "  </svg>\n",
              "      </button>\n",
              "      \n",
              "  <style>\n",
              "    .colab-df-container {\n",
              "      display:flex;\n",
              "      flex-wrap:wrap;\n",
              "      gap: 12px;\n",
              "    }\n",
              "\n",
              "    .colab-df-convert {\n",
              "      background-color: #E8F0FE;\n",
              "      border: none;\n",
              "      border-radius: 50%;\n",
              "      cursor: pointer;\n",
              "      display: none;\n",
              "      fill: #1967D2;\n",
              "      height: 32px;\n",
              "      padding: 0 0 0 0;\n",
              "      width: 32px;\n",
              "    }\n",
              "\n",
              "    .colab-df-convert:hover {\n",
              "      background-color: #E2EBFA;\n",
              "      box-shadow: 0px 1px 2px rgba(60, 64, 67, 0.3), 0px 1px 3px 1px rgba(60, 64, 67, 0.15);\n",
              "      fill: #174EA6;\n",
              "    }\n",
              "\n",
              "    [theme=dark] .colab-df-convert {\n",
              "      background-color: #3B4455;\n",
              "      fill: #D2E3FC;\n",
              "    }\n",
              "\n",
              "    [theme=dark] .colab-df-convert:hover {\n",
              "      background-color: #434B5C;\n",
              "      box-shadow: 0px 1px 3px 1px rgba(0, 0, 0, 0.15);\n",
              "      filter: drop-shadow(0px 1px 2px rgba(0, 0, 0, 0.3));\n",
              "      fill: #FFFFFF;\n",
              "    }\n",
              "  </style>\n",
              "\n",
              "      <script>\n",
              "        const buttonEl =\n",
              "          document.querySelector('#df-9f3bf65b-b19f-4395-9153-f9852333672e button.colab-df-convert');\n",
              "        buttonEl.style.display =\n",
              "          google.colab.kernel.accessAllowed ? 'block' : 'none';\n",
              "\n",
              "        async function convertToInteractive(key) {\n",
              "          const element = document.querySelector('#df-9f3bf65b-b19f-4395-9153-f9852333672e');\n",
              "          const dataTable =\n",
              "            await google.colab.kernel.invokeFunction('convertToInteractive',\n",
              "                                                     [key], {});\n",
              "          if (!dataTable) return;\n",
              "\n",
              "          const docLinkHtml = 'Like what you see? Visit the ' +\n",
              "            '<a target=\"_blank\" href=https://colab.research.google.com/notebooks/data_table.ipynb>data table notebook</a>'\n",
              "            + ' to learn more about interactive tables.';\n",
              "          element.innerHTML = '';\n",
              "          dataTable['output_type'] = 'display_data';\n",
              "          await google.colab.output.renderOutput(dataTable, element);\n",
              "          const docLink = document.createElement('div');\n",
              "          docLink.innerHTML = docLinkHtml;\n",
              "          element.appendChild(docLink);\n",
              "        }\n",
              "      </script>\n",
              "    </div>\n",
              "  </div>\n",
              "  "
            ]
          },
          "metadata": {},
          "execution_count": 9
        }
      ]
    },
    {
      "cell_type": "markdown",
      "source": [
        "**General Information of data**"
      ],
      "metadata": {
        "id": "_vuFZEs_KzGG"
      }
    },
    {
      "cell_type": "code",
      "source": [
        "data.info()"
      ],
      "metadata": {
        "colab": {
          "base_uri": "https://localhost:8080/"
        },
        "id": "kXcxuhKWfHTW",
        "outputId": "dcc25d92-c7db-47eb-cc78-e07749940298"
      },
      "execution_count": null,
      "outputs": [
        {
          "output_type": "stream",
          "name": "stdout",
          "text": [
            "<class 'pandas.core.frame.DataFrame'>\n",
            "RangeIndex: 2371979 entries, 0 to 2371978\n",
            "Data columns (total 11 columns):\n",
            " #   Column          Dtype  \n",
            "---  ------          -----  \n",
            " 0   step            int64  \n",
            " 1   type            object \n",
            " 2   amount          float64\n",
            " 3   nameOrig        object \n",
            " 4   oldbalanceOrg   float64\n",
            " 5   newbalanceOrig  float64\n",
            " 6   nameDest        object \n",
            " 7   oldbalanceDest  float64\n",
            " 8   newbalanceDest  float64\n",
            " 9   isFraud         float64\n",
            " 10  isFlaggedFraud  float64\n",
            "dtypes: float64(7), int64(1), object(3)\n",
            "memory usage: 199.1+ MB\n"
          ]
        }
      ]
    },
    {
      "cell_type": "markdown",
      "source": [
        "**Checking the datatype and Null values in data**"
      ],
      "metadata": {
        "id": "1agpv4bQK-lq"
      }
    },
    {
      "cell_type": "code",
      "source": [
        "data.isna().sum(), data.dtypes"
      ],
      "metadata": {
        "colab": {
          "base_uri": "https://localhost:8080/"
        },
        "id": "FIsSg7u4fMZZ",
        "outputId": "784e3690-9748-4b3b-aa72-1820abf5b645"
      },
      "execution_count": null,
      "outputs": [
        {
          "output_type": "execute_result",
          "data": {
            "text/plain": [
              "(step              0\n",
              " type              0\n",
              " amount            0\n",
              " nameOrig          0\n",
              " oldbalanceOrg     1\n",
              " newbalanceOrig    1\n",
              " nameDest          1\n",
              " oldbalanceDest    1\n",
              " newbalanceDest    1\n",
              " isFraud           1\n",
              " isFlaggedFraud    1\n",
              " dtype: int64, step                int64\n",
              " type               object\n",
              " amount            float64\n",
              " nameOrig           object\n",
              " oldbalanceOrg     float64\n",
              " newbalanceOrig    float64\n",
              " nameDest           object\n",
              " oldbalanceDest    float64\n",
              " newbalanceDest    float64\n",
              " isFraud           float64\n",
              " isFlaggedFraud    float64\n",
              " dtype: object)"
            ]
          },
          "metadata": {},
          "execution_count": 11
        }
      ]
    },
    {
      "cell_type": "markdown",
      "source": [
        "**Treating the missing values**\n",
        "Majority, we use mode for object datatype while I have used mode for float datatype becuase values are repeated and I also want to aviod the float or number in points and creating an issue for me in EDA."
      ],
      "metadata": {
        "id": "i5EPBeQQLPks"
      }
    },
    {
      "cell_type": "code",
      "source": [
        "data.fillna(data['oldbalanceOrg'].mode()[0], inplace=True)\n",
        "data.fillna(data['newbalanceOrig'].mode()[0], inplace=True)\n",
        "data.fillna(data['nameDest'].mode()[0], inplace=True)\n",
        "data.fillna(data['oldbalanceDest'].mode()[0], inplace=True)\n",
        "data.fillna(data['newbalanceDest'].mode()[0], inplace=True)\n",
        "data.fillna(data['isFraud'].mode()[0], inplace=True)\n",
        "data.fillna(data['isFlaggedFraud'].mode()[0], inplace=True)"
      ],
      "metadata": {
        "id": "VNRHIPzM192W"
      },
      "execution_count": null,
      "outputs": []
    },
    {
      "cell_type": "code",
      "source": [
        "data.isna().sum()"
      ],
      "metadata": {
        "colab": {
          "base_uri": "https://localhost:8080/"
        },
        "id": "9XA633qi4BiO",
        "outputId": "9a99144b-3e0d-4e74-d810-190bb262e796"
      },
      "execution_count": null,
      "outputs": [
        {
          "output_type": "execute_result",
          "data": {
            "text/plain": [
              "step              0\n",
              "type              0\n",
              "amount            0\n",
              "nameOrig          0\n",
              "oldbalanceOrg     0\n",
              "newbalanceOrig    0\n",
              "nameDest          0\n",
              "oldbalanceDest    0\n",
              "newbalanceDest    0\n",
              "isFraud           0\n",
              "isFlaggedFraud    0\n",
              "dtype: int64"
            ]
          },
          "metadata": {},
          "execution_count": 13
        }
      ]
    },
    {
      "cell_type": "markdown",
      "source": [
        "**Treating the Categorial features **\n",
        " I have used label encoder which encodes the data in alphabatical order;\n",
        " ['apple','york','book'] will be encoded as [0,2,1] assiging numerice value on alphabatically order."
      ],
      "metadata": {
        "id": "3-tDNYC2MMAx"
      }
    },
    {
      "cell_type": "code",
      "source": [
        "label_encoder=LabelEncoder()\n",
        "data['type']=label_encoder.fit_transform(data['type'])\n",
        "data['nameOrig']=label_encoder.fit_transform(data['nameOrig'])"
      ],
      "metadata": {
        "id": "p8396zmG4G7w"
      },
      "execution_count": null,
      "outputs": []
    },
    {
      "cell_type": "markdown",
      "source": [
        "**Confirming the datatypes of all feature or columns in dataset are numeric and also checking the shape of data or size**"
      ],
      "metadata": {
        "id": "cLswoXYkMxhk"
      }
    },
    {
      "cell_type": "code",
      "source": [
        "data.dtypes, data.shape"
      ],
      "metadata": {
        "colab": {
          "base_uri": "https://localhost:8080/"
        },
        "id": "680a7tPt4qgj",
        "outputId": "10e80367-2e50-46f7-e6aa-7a9421d45963"
      },
      "execution_count": null,
      "outputs": [
        {
          "output_type": "execute_result",
          "data": {
            "text/plain": [
              "(step                int64\n",
              " type                int64\n",
              " amount            float64\n",
              " nameOrig            int64\n",
              " oldbalanceOrg     float64\n",
              " newbalanceOrig    float64\n",
              " nameDest           object\n",
              " oldbalanceDest    float64\n",
              " newbalanceDest    float64\n",
              " isFraud           float64\n",
              " isFlaggedFraud    float64\n",
              " dtype: object, (2371979, 11))"
            ]
          },
          "metadata": {},
          "execution_count": 16
        }
      ]
    },
    {
      "cell_type": "code",
      "source": [
        "data=data.drop(['nameDest'], axis=1)"
      ],
      "metadata": {
        "id": "EP9C-tRt8tn3"
      },
      "execution_count": null,
      "outputs": []
    },
    {
      "cell_type": "markdown",
      "source": [
        "**EDA Analysis**\n",
        "Finding the distribution of data based on transactions present in data."
      ],
      "metadata": {
        "id": "sHQSYTb-Ng-F"
      }
    },
    {
      "cell_type": "code",
      "source": [
        "Count=pd.value_counts(data.isFraud,sort=True)\n",
        "Count.plot(kind='bar',rot=0)\n",
        "plt.title('Distribution of data')\n",
        "plt.xlabel('Row')\n",
        "plt.ylabel('Total numbers')\n",
        "plt.show()"
      ],
      "metadata": {
        "colab": {
          "base_uri": "https://localhost:8080/",
          "height": 350
        },
        "id": "_izK5rgifTka",
        "outputId": "a4356bad-f37e-4807-f3fc-58697bc11db4"
      },
      "execution_count": null,
      "outputs": [
        {
          "output_type": "display_data",
          "data": {
            "text/plain": [
              "<Figure size 720x360 with 1 Axes>"
            ],
            "image/png": "[encoded data removed]"
          },
          "metadata": {
            "needs_background": "light"
          }
        }
      ]
    },
    {
      "cell_type": "markdown",
      "source": [
        "**Finding the number of normal and fraud transaction.**"
      ],
      "metadata": {
        "id": "xA_KICBJNw9O"
      }
    },
    {
      "cell_type": "code",
      "source": [
        "fraud=data[data.isFraud==1]\n",
        "normal=data[data.isFraud==0]\n",
        "print(fraud.shape, normal.shape)"
      ],
      "metadata": {
        "colab": {
          "base_uri": "https://localhost:8080/"
        },
        "id": "ZKF9I40YgEtK",
        "outputId": "91d0a15b-1cda-4da8-c297-a1eb79b52c6a"
      },
      "execution_count": null,
      "outputs": [
        {
          "output_type": "stream",
          "name": "stdout",
          "text": [
            "(2168, 10) (2369811, 10)\n"
          ]
        }
      ]
    },
    {
      "cell_type": "code",
      "source": [
        "fraud.amount.describe().astype(int)"
      ],
      "metadata": {
        "colab": {
          "base_uri": "https://localhost:8080/"
        },
        "id": "xt7wlJIXgXH6",
        "outputId": "d3c49c3d-6b9a-4bd1-c59e-5cd725de206d"
      },
      "execution_count": null,
      "outputs": [
        {
          "output_type": "execute_result",
          "data": {
            "text/plain": [
              "count        2168\n",
              "mean      1280546\n",
              "std       2089029\n",
              "min           119\n",
              "25%        114017\n",
              "50%        394886\n",
              "75%       1457085\n",
              "max      10000000\n",
              "Name: amount, dtype: int64"
            ]
          },
          "metadata": {},
          "execution_count": 20
        }
      ]
    },
    {
      "cell_type": "code",
      "source": [
        "normal.amount.describe().astype(int)"
      ],
      "metadata": {
        "colab": {
          "base_uri": "https://localhost:8080/"
        },
        "id": "P1U5LqEXigSB",
        "outputId": "4054a24f-1cf3-4523-af1e-51f9fee9914c"
      },
      "execution_count": null,
      "outputs": [
        {
          "output_type": "execute_result",
          "data": {
            "text/plain": [
              "count    2369811\n",
              "mean      158629\n",
              "std       257359\n",
              "min            0\n",
              "25%        12868\n",
              "50%        77669\n",
              "75%       214538\n",
              "max      7719103\n",
              "Name: amount, dtype: int64"
            ]
          },
          "metadata": {},
          "execution_count": 21
        }
      ]
    },
    {
      "cell_type": "markdown",
      "source": [
        "We need to analyze more amount of information from the transaction data"
      ],
      "metadata": {
        "id": "YVpSOaE2Om4Q"
      }
    },
    {
      "cell_type": "code",
      "source": [
        "f, (ax1, ax2)= plt.subplots(2,1, sharex=True)\n",
        "f.suptitle('Amount per Transaction')\n",
        "bins=10000\n",
        "ax1.hist(fraud.amount, bins=bins)\n",
        "ax1.set_title('Fraud')\n",
        "ax2.hist(normal.amount, bins=bins)\n",
        "ax2.set_title('Normal')\n",
        "plt.xlabel('Amount ($)')\n",
        "plt.xlim(0,40000)\n",
        "plt.yscale('log')\n",
        "plt.ylabel('Number of Transactions')\n",
        "plt.show()"
      ],
      "metadata": {
        "colab": {
          "base_uri": "https://localhost:8080/",
          "height": 370
        },
        "id": "KWRC-M9OikAE",
        "outputId": "657a903e-1429-4771-add2-bb1c0b1de1fe"
      },
      "execution_count": null,
      "outputs": [
        {
          "output_type": "display_data",
          "data": {
            "text/plain": [
              "<Figure size 720x360 with 2 Axes>"
            ],
            "image/png": "[encoded data removed]"
          },
          "metadata": {
            "needs_background": "light"
          }
        }
      ]
    },
    {
      "cell_type": "markdown",
      "source": [
        "We Will check Do fraudulent transactions occur more often during certain steps"
      ],
      "metadata": {
        "id": "ujfrRqvaO2Xy"
      }
    },
    {
      "cell_type": "code",
      "source": [
        "f, (ax1, ax2)= plt.subplots(2,1, sharex=True)\n",
        "f.suptitle('Amount per Transaction')\n",
        "bins=70\n",
        "ax1.scatter(fraud.step, fraud.amount)\n",
        "ax1.set_title('Fraud')\n",
        "ax2.scatter(normal.step, normal.amount)\n",
        "ax2.set_title('Normal')\n",
        "plt.xlabel('Steps')\n",
        "plt.ylabel('Amount')\n",
        "plt.xlim(0,200)\n",
        "plt.yscale('log')\n",
        "plt.show()"
      ],
      "metadata": {
        "colab": {
          "base_uri": "https://localhost:8080/",
          "height": 370
        },
        "id": "YiiriRZijc7t",
        "outputId": "3dfcdbc2-f4b0-4e72-ee9e-09cae65de536"
      },
      "execution_count": null,
      "outputs": [
        {
          "output_type": "display_data",
          "data": {
            "text/plain": [
              "<Figure size 720x360 with 2 Axes>"
            ],
            "image/png": "[encoded data removed]"
          },
          "metadata": {
            "needs_background": "light"
          }
        }
      ]
    },
    {
      "cell_type": "markdown",
      "source": [
        "Finding the Fraud and Valid transactions in data"
      ],
      "metadata": {
        "id": "hyk0gpQSPBRg"
      }
    },
    {
      "cell_type": "code",
      "source": [
        "Fraud=data[data.isFraud==1]\n",
        "Valid=data[data.isFraud==0]\n",
        "outlier_fraction=len(Fraud)/float(len(Valid))\n",
        "print(outlier_fraction)\n",
        "print('Fraud Cases : ',len(Fraud))\n",
        "print('Valid Cases : ',len(Valid))"
      ],
      "metadata": {
        "colab": {
          "base_uri": "https://localhost:8080/"
        },
        "id": "nP7m9_dHkzUR",
        "outputId": "4e508381-5627-4fc6-bf39-6515764ca3db"
      },
      "execution_count": null,
      "outputs": [
        {
          "output_type": "stream",
          "name": "stdout",
          "text": [
            "0.0009148408881552157\n",
            "Fraud Cases :  2168\n",
            "Valid Cases :  2369811\n"
          ]
        }
      ]
    },
    {
      "cell_type": "code",
      "source": [
        "# Getting correlations of each feature in dataset\n",
        "relation_matrix=data.corr()\n",
        "top_correlated_features=relation_matrix.index\n",
        "plt.figure(figsize=(20,20))\n",
        "g=sns.heatmap(data[top_correlated_features].corr(),annot=True,cmap='RdYlGn')\n"
      ],
      "metadata": {
        "colab": {
          "base_uri": "https://localhost:8080/",
          "height": 1000
        },
        "id": "aUKwFhsYlc9k",
        "outputId": "1b8c11b6-349e-4efa-84cb-206dca2afbd5"
      },
      "execution_count": null,
      "outputs": [
        {
          "output_type": "display_data",
          "data": {
            "text/plain": [
              "<Figure size 1440x1440 with 2 Axes>"
            ],
            "image/png": "[encoded data removed]"
          },
          "metadata": {
            "needs_background": "light"
          }
        }
      ]
    },
    {
      "cell_type": "markdown",
      "source": [
        "**Creating the Dependent and Independent Features**"
      ],
      "metadata": {
        "id": "2VRViRD5PMqV"
      }
    },
    {
      "cell_type": "code",
      "source": [
        "# creating dependent and independent features\n",
        "columns =data.columns.tolist()\n",
        "# Dropping the columns that I do not want to include\n",
        "columns=[i for i in columns if i not in ['isFraud']]\n",
        "# Storing the variable that I am going to predict\n",
        "target='isFraud'\n",
        "# defining the Random State\n",
        "state=np.random.RandomState(50)\n",
        "X=data[columns]\n",
        "Y=data[target]\n",
        "Outliers=state.uniform(low=0, high=1, size=(X.shape[0],X.shape[1]))\n",
        "# printing the Shapes\n",
        "print(X.shape)\n",
        "print(Y.shape)"
      ],
      "metadata": {
        "colab": {
          "base_uri": "https://localhost:8080/"
        },
        "id": "XEKaNbRnsnW0",
        "outputId": "a28573be-53d6-4483-f04e-b427fd33f668"
      },
      "execution_count": null,
      "outputs": [
        {
          "output_type": "stream",
          "name": "stdout",
          "text": [
            "(2371979, 9)\n",
            "(2371979,)\n"
          ]
        }
      ]
    },
    {
      "cell_type": "markdown",
      "source": [
        "**Isolation Forest** Fitting the model and making prediction on the trained model."
      ],
      "metadata": {
        "id": "WM_NsJiyQF5g"
      }
    },
    {
      "cell_type": "code",
      "source": [
        "isolationForest=IsolationForest(n_estimators=100, max_samples=len(X), contamination=outlier_fraction, random_state=state, verbose=0)\n",
        "isolationForest.fit(X)\n",
        "score_prediction=isolationForest.decision_function(X)\n",
        "y_pred=isolationForest.predict(X)"
      ],
      "metadata": {
        "colab": {
          "base_uri": "https://localhost:8080/"
        },
        "id": "XdP-w4OWxJan",
        "outputId": "bebe7fde-d7be-448d-f0d4-b0466adf02a0"
      },
      "execution_count": null,
      "outputs": [
        {
          "output_type": "stream",
          "name": "stderr",
          "text": [
            "/usr/local/lib/python3.8/dist-packages/sklearn/base.py:450: UserWarning: X does not have valid feature names, but IsolationForest was fitted with feature names\n",
            "  warnings.warn(\n"
          ]
        }
      ]
    },
    {
      "cell_type": "markdown",
      "source": [
        "Results of Isolation Forest Model"
      ],
      "metadata": {
        "id": "w9BAYciLQePe"
      }
    },
    {
      "cell_type": "code",
      "source": [
        "y_pred[y_pred==1]=0\n",
        "y_pred[y_pred==-1]=1\n",
        "n_errors=(y_pred !=Y).sum()\n",
        "print(\"IsolationForest Error: \",n_errors)\n",
        "print('IsolationForest Accuracy Score: ', accuracy_score(Y, y_pred))\n",
        "print('IsolationForest Classification Report: \\n',classification_report(Y, y_pred))"
      ],
      "metadata": {
        "colab": {
          "base_uri": "https://localhost:8080/"
        },
        "id": "RqDwNh7ayTru",
        "outputId": "97c02465-639e-4bcb-812a-f4a5f22be47f"
      },
      "execution_count": null,
      "outputs": [
        {
          "output_type": "stream",
          "name": "stdout",
          "text": [
            "IsolationForest Error:  3836\n",
            "IsolationForest Accuracy Score:  0.9983827850077931\n",
            "IsolationForest Classification Report: \n",
            "               precision    recall  f1-score   support\n",
            "\n",
            "         0.0       1.00      1.00      1.00   2369811\n",
            "         1.0       0.12      0.12      0.12      2168\n",
            "\n",
            "    accuracy                           1.00   2371979\n",
            "   macro avg       0.56      0.56      0.56   2371979\n",
            "weighted avg       1.00      1.00      1.00   2371979\n",
            "\n"
          ]
        }
      ]
    },
    {
      "cell_type": "markdown",
      "source": [
        "**Local Outlier Factor** Fitting the Model and Making prediction on trained model."
      ],
      "metadata": {
        "id": "X-VSIYkEQkRG"
      }
    },
    {
      "cell_type": "code",
      "source": [
        "localOutlierFactor=LocalOutlierFactor(n_neighbors=25, algorithm='auto',leaf_size=20,metric='minkowski',p=2,metric_params=None,contamination=outlier_fraction)\n",
        "predicted=localOutlierFactor.fit_predict(X)\n",
        "score_prediction=localOutlierFactor.negative_outlier_factor_"
      ],
      "metadata": {
        "id": "0TIaiwL6_KOy"
      },
      "execution_count": null,
      "outputs": []
    },
    {
      "cell_type": "markdown",
      "source": [
        "Results of Local Outlier Factor."
      ],
      "metadata": {
        "id": "xsltsk2UQuwP"
      }
    },
    {
      "cell_type": "code",
      "source": [
        "predicted[predicted==1]=0\n",
        "predicted[predicted==-1]=1\n",
        "numberOfErrors=(predicted !=Y).sum()\n",
        "print(\"Local Outlier Factor Error: \",numberOfErrors)\n",
        "print('Local Outlier Factor Accuracy Score: ', accuracy_score(Y, predicted))\n",
        "print('Local Outlier Factor Classification Report: \\n',classification_report(Y, predicted))"
      ],
      "metadata": {
        "colab": {
          "base_uri": "https://localhost:8080/"
        },
        "id": "axGLu5DZDkh-",
        "outputId": "ca39aff4-b502-4e62-e704-ba5056ab839d"
      },
      "execution_count": null,
      "outputs": [
        {
          "output_type": "stream",
          "name": "stdout",
          "text": [
            "Local Outlier Factor Error:  4318\n",
            "Local Outlier Factor Accuracy Score:  0.9981795791615355\n",
            "Local Outlier Factor Classification Report:                precision    recall  f1-score   support\n",
            "\n",
            "         0.0       1.00      1.00      1.00   2369811\n",
            "         1.0       0.00      0.00      0.00      2168\n",
            "\n",
            "    accuracy                           1.00   2371979\n",
            "   macro avg       0.50      0.50      0.50   2371979\n",
            "weighted avg       1.00      1.00      1.00   2371979\n",
            "\n"
          ]
        }
      ]
    },
    {
      "cell_type": "markdown",
      "source": [
        "**One ClassSVM** Fitting the model and making prediction on trained model."
      ],
      "metadata": {
        "id": "-FtHH_2vQzg-"
      }
    },
    {
      "cell_type": "code",
      "source": [
        "supportVectorMachine=OneClassSVM(kernel='rbf',degree=3,gamma=0.1,nu=0.05, max_iter=-1)\n",
        "supportVectorMachine.fit(X)\n",
        "prediction=supportVectorMachine.predict(X)"
      ],
      "metadata": {
        "id": "-ihayeNiAxyg"
      },
      "execution_count": null,
      "outputs": []
    },
    {
      "cell_type": "markdown",
      "source": [
        "Results of One ClassSVM"
      ],
      "metadata": {
        "id": "TlJpYa_7Q-FD"
      }
    },
    {
      "cell_type": "code",
      "source": [
        "prediction[prediction==1]=0\n",
        "prediction[prediction==-1]=1\n",
        "total_errors=(predicted !=Y).sum()\n",
        "print(\"Local Outlier Factor Error: \",total_errors)\n",
        "print('Local Outlier Factor Accuracy Score: ', accuracy_score(Y, prediction))\n",
        "print('Local Outlier Factor Classification Report: \\n',classification_report(Y, prediction))\n"
      ],
      "metadata": {
        "id": "epLLZalmDoAa"
      },
      "execution_count": null,
      "outputs": []
    },
    {
      "cell_type": "code",
      "source": [],
      "metadata": {
        "id": "lSHLZ32aTkHo"
      },
      "execution_count": null,
      "outputs": []
    }
  ]
}