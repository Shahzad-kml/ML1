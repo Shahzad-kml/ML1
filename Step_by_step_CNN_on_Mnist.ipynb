{
  "nbformat": 4,
  "nbformat_minor": 0,
  "metadata": {
    "colab": {
      "provenance": [],
      "mount_file_id": "1ZfzKVbiu7pSEvNYFw_z_P4-k15RnuxO6",
      "authorship_tag": "ABX9TyNDt+k17tw8Ut8j85iO0VXp",
      "include_colab_link": true
    },
    "kernelspec": {
      "name": "python3",
      "display_name": "Python 3"
    },
    "language_info": {
      "name": "python"
    },
    "accelerator": "GPU",
    "gpuClass": "standard"
  },
  "cells": [
    {
      "cell_type": "markdown",
      "metadata": {
        "id": "view-in-github",
        "colab_type": "text"
      },
      "source": [
        "<a href=\"https://colab.research.google.com/github/Shahzad-kml/ML1/blob/main/Step_by_step_CNN_on_Mnist.ipynb\" target=\"_parent\"><img src=\"https://colab.research.google.com/assets/colab-badge.svg\" alt=\"Open In Colab\"/></a>"
      ]
    },
    {
      "cell_type": "code",
      "execution_count": null,
      "metadata": {
        "colab": {
          "base_uri": "https://localhost:8080/"
        },
        "id": "RO4RB1YHq-Xq",
        "outputId": "66bee1ce-8b5e-465c-ff70-66447e158017"
      },
      "outputs": [
        {
          "output_type": "stream",
          "name": "stdout",
          "text": [
            "Downloading data from https://storage.googleapis.com/tensorflow/tf-keras-datasets/mnist.npz\n",
            "11490434/11490434 [==============================] - 0s 0us/step\n",
            "Train_x:  (60000, 28, 28) \n",
            " Train_y:  (60000,)\n",
            "Test_x:  (10000, 28, 28) \n",
            " Test_y:  (10000,)\n"
          ]
        }
      ],
      "source": [
        "from tensorflow.keras.datasets import mnist\n",
        "import matplotlib.pyplot as plt\n",
        "# load dataset\n",
        "(train_x, train_y),(test_x, test_y)=mnist.load_data()\n",
        "print('Train_x: ',train_x.shape,'\\n','Train_y: ',train_y.shape)\n",
        "print('Test_x: ',test_x.shape,'\\n','Test_y: ',test_y.shape)"
      ]
    },
    {
      "cell_type": "code",
      "source": [
        "for i in range(5):\n",
        "  plt.subplot(330+1+i)\n",
        "  plt.imshow(train_x[i], cmap=plt.get_cmap('gray'))\n",
        "  plt.show()"
      ],
      "metadata": {
        "colab": {
          "base_uri": "https://localhost:8080/",
          "height": 507
        },
        "id": "mMUkgeGurnAI",
        "outputId": "61f0730f-1b11-443f-8506-cfb86226d17a"
      },
      "execution_count": null,
      "outputs": [
        {
          "output_type": "display_data",
          "data": {
            "text/plain": [
              "<Figure size 432x288 with 1 Axes>"
            ],
            "image/png": "[encoded data removed]"
          },
          "metadata": {
            "needs_background": "light"
          }
        },
        {
          "output_type": "display_data",
          "data": {
            "text/plain": [
              "<Figure size 432x288 with 1 Axes>"
            ],
            "image/png": "[encoded data removed]"
          },
          "metadata": {
            "needs_background": "light"
          }
        },
        {
          "output_type": "display_data",
          "data": {
            "text/plain": [
              "<Figure size 432x288 with 1 Axes>"
            ],
            "image/png": "[encoded data removed]"
          },
          "metadata": {
            "needs_background": "light"
          }
        },
        {
          "output_type": "display_data",
          "data": {
            "text/plain": [
              "<Figure size 432x288 with 1 Axes>"
            ],
            "image/png": "[encoded data removed]"
          },
          "metadata": {
            "needs_background": "light"
          }
        },
        {
          "output_type": "display_data",
          "data": {
            "text/plain": [
              "<Figure size 432x288 with 1 Axes>"
            ],
            "image/png": "[encoded data removed]"
          },
          "metadata": {
            "needs_background": "light"
          }
        }
      ]
    },
    {
      "cell_type": "code",
      "source": [
        "from keras.utils import to_categorical\n",
        "train_x=train_x.reshape(train_x.shape[0],28,28,1)\n",
        "test_x=test_x.reshape(test_x.shape[0],28,28,1)\n",
        "train_y=to_categorical(train_y)\n",
        "test_y=to_categorical(test_y)"
      ],
      "metadata": {
        "id": "dN6C5QxysJ58"
      },
      "execution_count": null,
      "outputs": []
    },
    {
      "cell_type": "code",
      "source": [
        "train_x=train_x.astype('float32')/255.0\n",
        "test_x=test_x.astype('float32')/255.0"
      ],
      "metadata": {
        "id": "cOrsoOq3su6h"
      },
      "execution_count": null,
      "outputs": []
    },
    {
      "cell_type": "code",
      "source": [
        "from tensorflow.keras.models import Sequential\n",
        "from tensorflow.keras.layers import Conv2D, MaxPooling2D, Dense, Flatten, BatchNormalization\n",
        "from tensorflow.keras.optimizers import SGD\n",
        "model=Sequential()\n",
        "model.add(Conv2D(32,(3,3), activation='relu',kernel_initializer='he_uniform',input_shape=(28,28,1)))\n",
        "model.add(MaxPooling2D((2,2)))\n",
        "model.add(Conv2D(64, (3, 3), activation='relu', kernel_initializer='he_uniform'))\n",
        "model.add(Conv2D(64, (3, 3), activation='relu', kernel_initializer='he_uniform'))\n",
        "model.add(BatchNormalization())\n",
        "model.add(MaxPooling2D((2, 2)))\n",
        "model.add(Flatten())\n",
        "model.add(Dense(100, activation='relu',kernel_initializer='he_uniform'))\n",
        "model.add(Dense(50, activation='relu',kernel_initializer='he_uniform'))\n",
        "model.add(Dense(10, activation='softmax'))\n",
        "optimum= SGD(learning_rate=0.01, momentum=0.9)\n",
        "model.compile(optimizer=optimum, loss='categorical_crossentropy', metrics=['accuracy'])"
      ],
      "metadata": {
        "id": "3JBvmuVutE72"
      },
      "execution_count": null,
      "outputs": []
    },
    {
      "cell_type": "code",
      "source": [
        "model.summary()"
      ],
      "metadata": {
        "colab": {
          "base_uri": "https://localhost:8080/"
        },
        "id": "GmZyPDIItL4T",
        "outputId": "62059b39-9f0c-4ec2-9b5c-f87ee40b1f3c"
      },
      "execution_count": null,
      "outputs": [
        {
          "output_type": "stream",
          "name": "stdout",
          "text": [
            "Model: \"sequential\"\n",
            "_________________________________________________________________\n",
            " Layer (type)                Output Shape              Param #   \n",
            "=================================================================\n",
            " conv2d (Conv2D)             (None, 26, 26, 32)        320       \n",
            "                                                                 \n",
            " max_pooling2d (MaxPooling2D  (None, 13, 13, 32)       0         \n",
            " )                                                               \n",
            "                                                                 \n",
            " conv2d_1 (Conv2D)           (None, 11, 11, 64)        18496     \n",
            "                                                                 \n",
            " max_pooling2d_1 (MaxPooling  (None, 5, 5, 64)         0         \n",
            " 2D)                                                             \n",
            "                                                                 \n",
            " flatten (Flatten)           (None, 1600)              0         \n",
            "                                                                 \n",
            " dense (Dense)               (None, 100)               160100    \n",
            "                                                                 \n",
            " dense_1 (Dense)             (None, 10)                1010      \n",
            "                                                                 \n",
            "=================================================================\n",
            "Total params: 179,926\n",
            "Trainable params: 179,926\n",
            "Non-trainable params: 0\n",
            "_________________________________________________________________\n"
          ]
        }
      ]
    },
    {
      "cell_type": "code",
      "source": [
        "history=model.fit(train_x, train_y, epochs=10, batch_size=32, validation_data=(test_x, test_y),verbose=0)"
      ],
      "metadata": {
        "id": "xB7JrKsktXdQ"
      },
      "execution_count": null,
      "outputs": []
    },
    {
      "cell_type": "code",
      "source": [
        "acc=model.evaluate(test_x, test_y)"
      ],
      "metadata": {
        "colab": {
          "base_uri": "https://localhost:8080/"
        },
        "id": "Uq0rPzWfuLEf",
        "outputId": "6feadb3a-1a32-4e52-89d4-7db3017b2300"
      },
      "execution_count": null,
      "outputs": [
        {
          "output_type": "stream",
          "name": "stdout",
          "text": [
            "313/313 [==============================] - 1s 3ms/step - loss: 0.0295 - accuracy: 0.9920\n"
          ]
        }
      ]
    },
    {
      "cell_type": "code",
      "source": [],
      "metadata": {
        "id": "dewgqoq6IAs_"
      },
      "execution_count": null,
      "outputs": []
    },
    {
      "cell_type": "code",
      "source": [
        "from matplotlib import pyplot as plt\n",
        "plt.plot(history.history['accuracy'])\n",
        "plt.plot(history.history['val_accuracy'])\n",
        "plt.title('model accuracy')\n",
        "plt.ylabel('accuracy')\n",
        "plt.xlabel('epoch')\n",
        "plt.legend(['train', 'val'], loc='upper left')\n",
        "plt.show()"
      ],
      "metadata": {
        "colab": {
          "base_uri": "https://localhost:8080/",
          "height": 295
        },
        "id": "WXc9PRdbHb9_",
        "outputId": "7b4518da-338d-40af-86da-5197b7ca7bd4"
      },
      "execution_count": null,
      "outputs": [
        {
          "output_type": "display_data",
          "data": {
            "text/plain": [
              "<Figure size 432x288 with 1 Axes>"
            ],
            "image/png": "[encoded data removed]"
          },
          "metadata": {
            "needs_background": "light"
          }
        }
      ]
    },
    {
      "cell_type": "code",
      "source": [
        "plt.plot(history.history['loss'])\n",
        "plt.plot(history.history['val_loss'])\n",
        "plt.title('model loss')\n",
        "plt.ylabel('loss')\n",
        "plt.xlabel('epoch')\n",
        "plt.legend(['train', 'val'], loc='upper left')\n",
        "plt.show()"
      ],
      "metadata": {
        "colab": {
          "base_uri": "https://localhost:8080/",
          "height": 295
        },
        "id": "55gkdR-jHp_r",
        "outputId": "6723a651-80fa-436e-da4e-a517d5e82c76"
      },
      "execution_count": null,
      "outputs": [
        {
          "output_type": "display_data",
          "data": {
            "text/plain": [
              "<Figure size 432x288 with 1 Axes>"
            ],
            "image/png": "[encoded data removed]"
          },
          "metadata": {
            "needs_background": "light"
          }
        }
      ]
    },
    {
      "cell_type": "code",
      "source": [
        "plt.boxplot(acc)\n",
        "plt.show()"
      ],
      "metadata": {
        "colab": {
          "base_uri": "https://localhost:8080/",
          "height": 265
        },
        "id": "yZ7YzUNtx7pq",
        "outputId": "90d6f344-ea71-4a39-eb32-d083f35ad824"
      },
      "execution_count": null,
      "outputs": [
        {
          "output_type": "display_data",
          "data": {
            "text/plain": [
              "<Figure size 432x288 with 1 Axes>"
            ],
            "image/png": "[encoded data removed]"
          },
          "metadata": {
            "needs_background": "light"
          }
        }
      ]
    },
    {
      "cell_type": "code",
      "source": [
        "from tensorflow.keras.utils import load_img\n",
        "from tensorflow.keras.utils import img_to_array\n",
        "from numpy import argmax\n",
        "filename='/content/drive/MyDrive/Datasets/Digits/8_.PNG'\n",
        "img = load_img(filename, grayscale=True, target_size=(28, 28), interpolation='bicubic')\n",
        "plt.imshow(img, cmap=plt.get_cmap('gray'))\n",
        "img = img_to_array(img)\n",
        "img = img.reshape(1, 28, 28, 1)\n",
        "img = img.astype('float32')/255.0"
      ],
      "metadata": {
        "colab": {
          "base_uri": "https://localhost:8080/",
          "height": 320
        },
        "id": "ttn6Ggtg4dhT",
        "outputId": "2996765a-27b0-49dc-e935-779e92732095"
      },
      "execution_count": null,
      "outputs": [
        {
          "output_type": "stream",
          "name": "stderr",
          "text": [
            "/usr/local/lib/python3.9/dist-packages/keras/utils/image_utils.py:409: UserWarning: grayscale is deprecated. Please use color_mode = \"grayscale\"\n",
            "  warnings.warn(\n"
          ]
        },
        {
          "output_type": "display_data",
          "data": {
            "text/plain": [
              "<Figure size 432x288 with 1 Axes>"
            ],
            "image/png": "[encoded data removed]"
          },
          "metadata": {
            "needs_background": "light"
          }
        }
      ]
    },
    {
      "cell_type": "code",
      "source": [
        "prediction=model.predict(img)\n",
        "digit = argmax(prediction)\n",
        "print(digit)"
      ],
      "metadata": {
        "colab": {
          "base_uri": "https://localhost:8080/"
        },
        "id": "Cdus2gMk5cv6",
        "outputId": "cecf981d-1b24-44e8-e282-66dc6b6f6aaf"
      },
      "execution_count": null,
      "outputs": [
        {
          "output_type": "stream",
          "name": "stdout",
          "text": [
            "1/1 [==============================] - 0s 131ms/step\n",
            "5\n"
          ]
        }
      ]
    },
    {
      "cell_type": "code",
      "source": [
        "from tensorflow.keras.utils import load_img\n",
        "from tensorflow.keras.utils import img_to_array\n",
        "from numpy import argmax\n",
        "import os\n",
        "directory = '/content/drive/MyDrive/Datasets/Digits/'\n",
        "for filename in os.listdir(directory):\n",
        "    if filename.endswith('.PNG'):\n",
        "        img = load_img(os.path.join(directory, filename), grayscale=True, target_size=(28, 28),interpolation='bicubic')\n",
        "        img = img_to_array(img)\n",
        "        img = img.reshape(1, 28, 28, 1)\n",
        "        img = img.astype('float32')/255.0 \n",
        "        prediction = model.predict(img)\n",
        "        digit = argmax(prediction)\n",
        "        print(f\"Filename: {filename}, Predicted digit: {digit}\")\n"
      ],
      "metadata": {
        "colab": {
          "base_uri": "https://localhost:8080/"
        },
        "id": "HpbSV6AX7m5n",
        "outputId": "07b04f65-8ede-40ef-8c51-8532fd28f2c3"
      },
      "execution_count": null,
      "outputs": [
        {
          "output_type": "stream",
          "name": "stdout",
          "text": [
            "1/1 [==============================] - 0s 21ms/step\n",
            "Filename: 0.PNG, Predicted digit: 0\n",
            "1/1 [==============================] - 0s 21ms/step\n",
            "Filename: 1.PNG, Predicted digit: 1\n",
            "1/1 [==============================] - 0s 21ms/step\n",
            "Filename: 3.PNG, Predicted digit: 3\n",
            "1/1 [==============================] - 0s 22ms/step\n",
            "Filename: 5.PNG, Predicted digit: 5\n",
            "1/1 [==============================] - 0s 20ms/step\n",
            "Filename: 4.PNG, Predicted digit: 4\n",
            "1/1 [==============================] - 0s 19ms/step\n",
            "Filename: 2.PNG, Predicted digit: 2\n",
            "1/1 [==============================] - 0s 23ms/step\n",
            "Filename: 7.PNG, Predicted digit: 1\n",
            "1/1 [==============================] - 0s 21ms/step\n",
            "Filename: 9.PNG, Predicted digit: 9\n",
            "1/1 [==============================] - 0s 18ms/step\n",
            "Filename: 8.PNG, Predicted digit: 8\n",
            "1/1 [==============================] - 0s 18ms/step\n",
            "Filename: 99.PNG, Predicted digit: 9\n",
            "1/1 [==============================] - 0s 19ms/step\n",
            "Filename: 6.PNG, Predicted digit: 6\n",
            "1/1 [==============================] - 0s 19ms/step\n",
            "Filename: 8_.PNG, Predicted digit: 5\n",
            "1/1 [==============================] - 0s 21ms/step\n",
            "Filename: 9_.PNG, Predicted digit: 7\n"
          ]
        }
      ]
    },
    {
      "cell_type": "code",
      "source": [
        "model.save_weights('/content/drive/MyDrive/Datasets/CCN_mnist_dataset.h5')\n"
      ],
      "metadata": {
        "id": "oJ23Vv1MLy3m"
      },
      "execution_count": null,
      "outputs": []
    },
    {
      "cell_type": "code",
      "source": [],
      "metadata": {
        "id": "osWp--zJU-a5"
      },
      "execution_count": null,
      "outputs": []
    }
  ]
}